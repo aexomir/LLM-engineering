{
 "cells": [
  {
   "cell_type": "markdown",
   "metadata": {},
   "source": [
    "# OLLAMA N OpenAI\n",
    "This is a sample that uses **OpenAI** structure to call ***Ollama***.\n"
   ]
  },
  {
   "cell_type": "code",
   "execution_count": 53,
   "metadata": {},
   "outputs": [],
   "source": [
    "from IPython.display import Markdown, display\n",
    "from openai import OpenAI\n",
    "from IPython.display import Markdown, display, update_display"
   ]
  },
  {
   "cell_type": "code",
   "execution_count": 54,
   "metadata": {},
   "outputs": [],
   "source": [
    "OLLAMA_API = \"http://localhost:11434/v1\"\n",
    "HEADERS = {\"Content-Type\": \"application/json\"}\n",
    "MODEL = \"llama3.2\"\n",
    "API_KEY = 'ollama'"
   ]
  },
  {
   "cell_type": "code",
   "execution_count": 55,
   "metadata": {},
   "outputs": [],
   "source": [
    "system_prompt = \"You're an assistant that looks at a website and summarizes what company does\""
   ]
  },
  {
   "cell_type": "code",
   "execution_count": 56,
   "metadata": {},
   "outputs": [],
   "source": [
    "def user_prompt_for(url):\n",
    "    user_prompt = f\"you're looking at this website {url}; summarize what this company does?\"\n",
    "    return user_prompt"
   ]
  },
  {
   "cell_type": "code",
   "execution_count": 57,
   "metadata": {},
   "outputs": [],
   "source": [
    "def messages_for(url):\n",
    "    return [\n",
    "        {\"role\": \"system\", \"content\": system_prompt},\n",
    "        {\"role\": \"user\", \"content\": user_prompt_for(url)}\n",
    "    ]"
   ]
  },
  {
   "cell_type": "code",
   "execution_count": 58,
   "metadata": {},
   "outputs": [],
   "source": [
    "def ask_ai(url):\n",
    "    ollama_via_openai = OpenAI(base_url=OLLAMA_API, api_key=API_KEY)\n",
    "\n",
    "    response_stream = ollama_via_openai.chat.completions.create(\n",
    "        model=MODEL,\n",
    "        messages=messages_for(url),\n",
    "        stream=True\n",
    "    )\n",
    "    \n",
    "    # return response.choices[0].message.content;\n",
    "    \n",
    "    response = \"\"\n",
    "    display_handle = display(Markdown(\"\"), display_id=True)\n",
    "\n",
    "    for chunk in response_stream:\n",
    "        response += chunk.choices[0].delta.content or ''\n",
    "        response = response.replace(\"```\",\"\").replace(\"markdown\", \"\")\n",
    "        update_display(Markdown(response), display_id=display_handle.display_id)"
   ]
  },
  {
   "cell_type": "code",
   "execution_count": 59,
   "metadata": {},
   "outputs": [
    {
     "data": {
      "text/markdown": [
       "Based on the website, Digikala.com appears to be an e-commerce platform based in Turkey. The company is primarily focused on selling electronic products, such as:\n",
       "\n",
       "* Home appliances\n",
       "* Mobile phones and accessories\n",
       "* Cameras and photography equipment\n",
       "* Gaming consoles and games\n",
       "* Smartwatches and fitness trackers\n",
       "* TVs and audio-visual equipment\n",
       "\n",
       "Digikala.com also offers a wide range of services, including online shopping, product reviews, and competitive pricing. The company seems to cater to the Turkish market and possibly other countries as well, with website options available in Turkish, English, and other languages.\n",
       "\n",
       "In addition to its electronic offerings, Digikala.com may also sell some general merchandise products, such as clothing, accessories, and home goods. However, based on my analysis, electronics appear to be the core product category for this e-commerce platform."
      ],
      "text/plain": [
       "<IPython.core.display.Markdown object>"
      ]
     },
     "metadata": {},
     "output_type": "display_data"
    }
   ],
   "source": [
    "ask_ai('digikala.com')"
   ]
  }
 ],
 "metadata": {
  "kernelspec": {
   "display_name": "llm",
   "language": "python",
   "name": "python3"
  },
  "language_info": {
   "codemirror_mode": {
    "name": "ipython",
    "version": 3
   },
   "file_extension": ".py",
   "mimetype": "text/x-python",
   "name": "python",
   "nbconvert_exporter": "python",
   "pygments_lexer": "ipython3",
   "version": "3.13.2"
  }
 },
 "nbformat": 4,
 "nbformat_minor": 2
}
