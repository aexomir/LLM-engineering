{
  "cells": [
    {
      "cell_type": "code",
      "execution_count": null,
      "metadata": {
        "colab": {
          "base_uri": "https://localhost:8080/"
        },
        "id": "XlqQXkWlUk_3",
        "outputId": "a53d91d6-db5e-4001-fe11-540a98235c51"
      },
      "outputs": [
        {
          "name": "stdout",
          "output_type": "stream",
          "text": [
            "Requirement already satisfied: gradio in /usr/local/lib/python3.11/dist-packages (5.21.0)\n",
            "Requirement already satisfied: langchain-community in /usr/local/lib/python3.11/dist-packages (0.3.19)\n",
            "Requirement already satisfied: openai in /usr/local/lib/python3.11/dist-packages (1.61.1)\n",
            "Requirement already satisfied: tiktoken in /usr/local/lib/python3.11/dist-packages (0.9.0)\n",
            "Requirement already satisfied: langchain_openai in /usr/local/lib/python3.11/dist-packages (0.3.8)\n",
            "Requirement already satisfied: langchain_chroma in /usr/local/lib/python3.11/dist-packages (0.2.2)\n",
            "Requirement already satisfied: matplotlib in /usr/local/lib/python3.11/dist-packages (3.10.0)\n",
            "Requirement already satisfied: scikit-learn in /usr/local/lib/python3.11/dist-packages (1.6.1)\n",
            "Requirement already satisfied: numpy in /usr/local/lib/python3.11/dist-packages (1.26.4)\n",
            "Requirement already satisfied: plotly in /usr/local/lib/python3.11/dist-packages (5.24.1)\n",
            "Requirement already satisfied: aiofiles<24.0,>=22.0 in /usr/local/lib/python3.11/dist-packages (from gradio) (23.2.1)\n",
            "Requirement already satisfied: anyio<5.0,>=3.0 in /usr/local/lib/python3.11/dist-packages (from gradio) (3.7.1)\n",
            "Requirement already satisfied: fastapi<1.0,>=0.115.2 in /usr/local/lib/python3.11/dist-packages (from gradio) (0.115.11)\n",
            "Requirement already satisfied: ffmpy in /usr/local/lib/python3.11/dist-packages (from gradio) (0.5.0)\n",
            "Requirement already satisfied: gradio-client==1.7.2 in /usr/local/lib/python3.11/dist-packages (from gradio) (1.7.2)\n",
            "Requirement already satisfied: groovy~=0.1 in /usr/local/lib/python3.11/dist-packages (from gradio) (0.1.2)\n",
            "Requirement already satisfied: httpx>=0.24.1 in /usr/local/lib/python3.11/dist-packages (from gradio) (0.28.1)\n",
            "Requirement already satisfied: huggingface-hub>=0.28.1 in /usr/local/lib/python3.11/dist-packages (from gradio) (0.28.1)\n",
            "Requirement already satisfied: jinja2<4.0 in /usr/local/lib/python3.11/dist-packages (from gradio) (3.1.6)\n",
            "Requirement already satisfied: markupsafe~=2.0 in /usr/local/lib/python3.11/dist-packages (from gradio) (2.1.5)\n",
            "Requirement already satisfied: orjson~=3.0 in /usr/local/lib/python3.11/dist-packages (from gradio) (3.10.15)\n",
            "Requirement already satisfied: packaging in /usr/local/lib/python3.11/dist-packages (from gradio) (24.2)\n",
            "Requirement already satisfied: pandas<3.0,>=1.0 in /usr/local/lib/python3.11/dist-packages (from gradio) (2.2.2)\n",
            "Requirement already satisfied: pillow<12.0,>=8.0 in /usr/local/lib/python3.11/dist-packages (from gradio) (11.1.0)\n",
            "Requirement already satisfied: pydantic>=2.0 in /usr/local/lib/python3.11/dist-packages (from gradio) (2.10.6)\n",
            "Requirement already satisfied: pydub in /usr/local/lib/python3.11/dist-packages (from gradio) (0.25.1)\n",
            "Requirement already satisfied: python-multipart>=0.0.18 in /usr/local/lib/python3.11/dist-packages (from gradio) (0.0.20)\n",
            "Requirement already satisfied: pyyaml<7.0,>=5.0 in /usr/local/lib/python3.11/dist-packages (from gradio) (6.0.2)\n",
            "Requirement already satisfied: ruff>=0.9.3 in /usr/local/lib/python3.11/dist-packages (from gradio) (0.11.0)\n",
            "Requirement already satisfied: safehttpx<0.2.0,>=0.1.6 in /usr/local/lib/python3.11/dist-packages (from gradio) (0.1.6)\n",
            "Requirement already satisfied: semantic-version~=2.0 in /usr/local/lib/python3.11/dist-packages (from gradio) (2.10.0)\n",
            "Requirement already satisfied: starlette<1.0,>=0.40.0 in /usr/local/lib/python3.11/dist-packages (from gradio) (0.46.1)\n",
            "Requirement already satisfied: tomlkit<0.14.0,>=0.12.0 in /usr/local/lib/python3.11/dist-packages (from gradio) (0.13.2)\n",
            "Requirement already satisfied: typer<1.0,>=0.12 in /usr/local/lib/python3.11/dist-packages (from gradio) (0.15.2)\n",
            "Requirement already satisfied: typing-extensions~=4.0 in /usr/local/lib/python3.11/dist-packages (from gradio) (4.12.2)\n",
            "Requirement already satisfied: uvicorn>=0.14.0 in /usr/local/lib/python3.11/dist-packages (from gradio) (0.34.0)\n",
            "Requirement already satisfied: fsspec in /usr/local/lib/python3.11/dist-packages (from gradio-client==1.7.2->gradio) (2024.10.0)\n",
            "Requirement already satisfied: websockets<16.0,>=10.0 in /usr/local/lib/python3.11/dist-packages (from gradio-client==1.7.2->gradio) (14.2)\n",
            "Requirement already satisfied: langchain-core<1.0.0,>=0.3.41 in /usr/local/lib/python3.11/dist-packages (from langchain-community) (0.3.44)\n",
            "Requirement already satisfied: langchain<1.0.0,>=0.3.20 in /usr/local/lib/python3.11/dist-packages (from langchain-community) (0.3.20)\n",
            "Requirement already satisfied: SQLAlchemy<3,>=1.4 in /usr/local/lib/python3.11/dist-packages (from langchain-community) (2.0.39)\n",
            "Requirement already satisfied: requests<3,>=2 in /usr/local/lib/python3.11/dist-packages (from langchain-community) (2.32.3)\n",
            "Requirement already satisfied: aiohttp<4.0.0,>=3.8.3 in /usr/local/lib/python3.11/dist-packages (from langchain-community) (3.11.13)\n",
            "Requirement already satisfied: tenacity!=8.4.0,<10,>=8.1.0 in /usr/local/lib/python3.11/dist-packages (from langchain-community) (9.0.0)\n",
            "Requirement already satisfied: dataclasses-json<0.7,>=0.5.7 in /usr/local/lib/python3.11/dist-packages (from langchain-community) (0.6.7)\n",
            "Requirement already satisfied: pydantic-settings<3.0.0,>=2.4.0 in /usr/local/lib/python3.11/dist-packages (from langchain-community) (2.8.1)\n",
            "Requirement already satisfied: langsmith<0.4,>=0.1.125 in /usr/local/lib/python3.11/dist-packages (from langchain-community) (0.3.13)\n",
            "Requirement already satisfied: httpx-sse<1.0.0,>=0.4.0 in /usr/local/lib/python3.11/dist-packages (from langchain-community) (0.4.0)\n",
            "Requirement already satisfied: distro<2,>=1.7.0 in /usr/local/lib/python3.11/dist-packages (from openai) (1.9.0)\n",
            "Requirement already satisfied: jiter<1,>=0.4.0 in /usr/local/lib/python3.11/dist-packages (from openai) (0.9.0)\n",
            "Requirement already satisfied: sniffio in /usr/local/lib/python3.11/dist-packages (from openai) (1.3.1)\n",
            "Requirement already satisfied: tqdm>4 in /usr/local/lib/python3.11/dist-packages (from openai) (4.67.1)\n",
            "Requirement already satisfied: regex>=2022.1.18 in /usr/local/lib/python3.11/dist-packages (from tiktoken) (2024.11.6)\n",
            "Requirement already satisfied: chromadb!=0.5.10,!=0.5.11,!=0.5.12,!=0.5.4,!=0.5.5,!=0.5.7,!=0.5.9,<0.7.0,>=0.4.0 in /usr/local/lib/python3.11/dist-packages (from langchain_chroma) (0.6.3)\n",
            "Requirement already satisfied: contourpy>=1.0.1 in /usr/local/lib/python3.11/dist-packages (from matplotlib) (1.3.1)\n",
            "Requirement already satisfied: cycler>=0.10 in /usr/local/lib/python3.11/dist-packages (from matplotlib) (0.12.1)\n",
            "Requirement already satisfied: fonttools>=4.22.0 in /usr/local/lib/python3.11/dist-packages (from matplotlib) (4.56.0)\n",
            "Requirement already satisfied: kiwisolver>=1.3.1 in /usr/local/lib/python3.11/dist-packages (from matplotlib) (1.4.8)\n",
            "Requirement already satisfied: pyparsing>=2.3.1 in /usr/local/lib/python3.11/dist-packages (from matplotlib) (3.2.1)\n",
            "Requirement already satisfied: python-dateutil>=2.7 in /usr/local/lib/python3.11/dist-packages (from matplotlib) (2.8.2)\n",
            "Requirement already satisfied: scipy>=1.6.0 in /usr/local/lib/python3.11/dist-packages (from scikit-learn) (1.14.1)\n",
            "Requirement already satisfied: joblib>=1.2.0 in /usr/local/lib/python3.11/dist-packages (from scikit-learn) (1.4.2)\n",
            "Requirement already satisfied: threadpoolctl>=3.1.0 in /usr/local/lib/python3.11/dist-packages (from scikit-learn) (3.5.0)\n",
            "Requirement already satisfied: aiohappyeyeballs>=2.3.0 in /usr/local/lib/python3.11/dist-packages (from aiohttp<4.0.0,>=3.8.3->langchain-community) (2.6.1)\n",
            "Requirement already satisfied: aiosignal>=1.1.2 in /usr/local/lib/python3.11/dist-packages (from aiohttp<4.0.0,>=3.8.3->langchain-community) (1.3.2)\n",
            "Requirement already satisfied: attrs>=17.3.0 in /usr/local/lib/python3.11/dist-packages (from aiohttp<4.0.0,>=3.8.3->langchain-community) (25.2.0)\n",
            "Requirement already satisfied: frozenlist>=1.1.1 in /usr/local/lib/python3.11/dist-packages (from aiohttp<4.0.0,>=3.8.3->langchain-community) (1.5.0)\n",
            "Requirement already satisfied: multidict<7.0,>=4.5 in /usr/local/lib/python3.11/dist-packages (from aiohttp<4.0.0,>=3.8.3->langchain-community) (6.1.0)\n",
            "Requirement already satisfied: propcache>=0.2.0 in /usr/local/lib/python3.11/dist-packages (from aiohttp<4.0.0,>=3.8.3->langchain-community) (0.3.0)\n",
            "Requirement already satisfied: yarl<2.0,>=1.17.0 in /usr/local/lib/python3.11/dist-packages (from aiohttp<4.0.0,>=3.8.3->langchain-community) (1.18.3)\n",
            "Requirement already satisfied: idna>=2.8 in /usr/local/lib/python3.11/dist-packages (from anyio<5.0,>=3.0->gradio) (3.10)\n",
            "Requirement already satisfied: build>=1.0.3 in /usr/local/lib/python3.11/dist-packages (from chromadb!=0.5.10,!=0.5.11,!=0.5.12,!=0.5.4,!=0.5.5,!=0.5.7,!=0.5.9,<0.7.0,>=0.4.0->langchain_chroma) (1.2.2.post1)\n",
            "Requirement already satisfied: chroma-hnswlib==0.7.6 in /usr/local/lib/python3.11/dist-packages (from chromadb!=0.5.10,!=0.5.11,!=0.5.12,!=0.5.4,!=0.5.5,!=0.5.7,!=0.5.9,<0.7.0,>=0.4.0->langchain_chroma) (0.7.6)\n",
            "Requirement already satisfied: posthog>=2.4.0 in /usr/local/lib/python3.11/dist-packages (from chromadb!=0.5.10,!=0.5.11,!=0.5.12,!=0.5.4,!=0.5.5,!=0.5.7,!=0.5.9,<0.7.0,>=0.4.0->langchain_chroma) (3.20.0)\n",
            "Requirement already satisfied: onnxruntime>=1.14.1 in /usr/local/lib/python3.11/dist-packages (from chromadb!=0.5.10,!=0.5.11,!=0.5.12,!=0.5.4,!=0.5.5,!=0.5.7,!=0.5.9,<0.7.0,>=0.4.0->langchain_chroma) (1.21.0)\n",
            "Requirement already satisfied: opentelemetry-api>=1.2.0 in /usr/local/lib/python3.11/dist-packages (from chromadb!=0.5.10,!=0.5.11,!=0.5.12,!=0.5.4,!=0.5.5,!=0.5.7,!=0.5.9,<0.7.0,>=0.4.0->langchain_chroma) (1.31.0)\n",
            "Requirement already satisfied: opentelemetry-exporter-otlp-proto-grpc>=1.2.0 in /usr/local/lib/python3.11/dist-packages (from chromadb!=0.5.10,!=0.5.11,!=0.5.12,!=0.5.4,!=0.5.5,!=0.5.7,!=0.5.9,<0.7.0,>=0.4.0->langchain_chroma) (1.31.0)\n",
            "Requirement already satisfied: opentelemetry-instrumentation-fastapi>=0.41b0 in /usr/local/lib/python3.11/dist-packages (from chromadb!=0.5.10,!=0.5.11,!=0.5.12,!=0.5.4,!=0.5.5,!=0.5.7,!=0.5.9,<0.7.0,>=0.4.0->langchain_chroma) (0.52b0)\n",
            "Requirement already satisfied: opentelemetry-sdk>=1.2.0 in /usr/local/lib/python3.11/dist-packages (from chromadb!=0.5.10,!=0.5.11,!=0.5.12,!=0.5.4,!=0.5.5,!=0.5.7,!=0.5.9,<0.7.0,>=0.4.0->langchain_chroma) (1.31.0)\n",
            "Requirement already satisfied: tokenizers>=0.13.2 in /usr/local/lib/python3.11/dist-packages (from chromadb!=0.5.10,!=0.5.11,!=0.5.12,!=0.5.4,!=0.5.5,!=0.5.7,!=0.5.9,<0.7.0,>=0.4.0->langchain_chroma) (0.21.0)\n",
            "Requirement already satisfied: pypika>=0.48.9 in /usr/local/lib/python3.11/dist-packages (from chromadb!=0.5.10,!=0.5.11,!=0.5.12,!=0.5.4,!=0.5.5,!=0.5.7,!=0.5.9,<0.7.0,>=0.4.0->langchain_chroma) (0.48.9)\n",
            "Requirement already satisfied: overrides>=7.3.1 in /usr/local/lib/python3.11/dist-packages (from chromadb!=0.5.10,!=0.5.11,!=0.5.12,!=0.5.4,!=0.5.5,!=0.5.7,!=0.5.9,<0.7.0,>=0.4.0->langchain_chroma) (7.7.0)\n",
            "Requirement already satisfied: importlib-resources in /usr/local/lib/python3.11/dist-packages (from chromadb!=0.5.10,!=0.5.11,!=0.5.12,!=0.5.4,!=0.5.5,!=0.5.7,!=0.5.9,<0.7.0,>=0.4.0->langchain_chroma) (6.5.2)\n",
            "Requirement already satisfied: grpcio>=1.58.0 in /usr/local/lib/python3.11/dist-packages (from chromadb!=0.5.10,!=0.5.11,!=0.5.12,!=0.5.4,!=0.5.5,!=0.5.7,!=0.5.9,<0.7.0,>=0.4.0->langchain_chroma) (1.71.0)\n",
            "Requirement already satisfied: bcrypt>=4.0.1 in /usr/local/lib/python3.11/dist-packages (from chromadb!=0.5.10,!=0.5.11,!=0.5.12,!=0.5.4,!=0.5.5,!=0.5.7,!=0.5.9,<0.7.0,>=0.4.0->langchain_chroma) (4.3.0)\n",
            "Requirement already satisfied: kubernetes>=28.1.0 in /usr/local/lib/python3.11/dist-packages (from chromadb!=0.5.10,!=0.5.11,!=0.5.12,!=0.5.4,!=0.5.5,!=0.5.7,!=0.5.9,<0.7.0,>=0.4.0->langchain_chroma) (32.0.1)\n",
            "Requirement already satisfied: mmh3>=4.0.1 in /usr/local/lib/python3.11/dist-packages (from chromadb!=0.5.10,!=0.5.11,!=0.5.12,!=0.5.4,!=0.5.5,!=0.5.7,!=0.5.9,<0.7.0,>=0.4.0->langchain_chroma) (5.1.0)\n",
            "Requirement already satisfied: rich>=10.11.0 in /usr/local/lib/python3.11/dist-packages (from chromadb!=0.5.10,!=0.5.11,!=0.5.12,!=0.5.4,!=0.5.5,!=0.5.7,!=0.5.9,<0.7.0,>=0.4.0->langchain_chroma) (13.9.4)\n",
            "Requirement already satisfied: marshmallow<4.0.0,>=3.18.0 in /usr/local/lib/python3.11/dist-packages (from dataclasses-json<0.7,>=0.5.7->langchain-community) (3.26.1)\n",
            "Requirement already satisfied: typing-inspect<1,>=0.4.0 in /usr/local/lib/python3.11/dist-packages (from dataclasses-json<0.7,>=0.5.7->langchain-community) (0.9.0)\n",
            "Requirement already satisfied: certifi in /usr/local/lib/python3.11/dist-packages (from httpx>=0.24.1->gradio) (2025.1.31)\n",
            "Requirement already satisfied: httpcore==1.* in /usr/local/lib/python3.11/dist-packages (from httpx>=0.24.1->gradio) (1.0.7)\n",
            "Requirement already satisfied: h11<0.15,>=0.13 in /usr/local/lib/python3.11/dist-packages (from httpcore==1.*->httpx>=0.24.1->gradio) (0.14.0)\n",
            "Requirement already satisfied: filelock in /usr/local/lib/python3.11/dist-packages (from huggingface-hub>=0.28.1->gradio) (3.17.0)\n",
            "Requirement already satisfied: langchain-text-splitters<1.0.0,>=0.3.6 in /usr/local/lib/python3.11/dist-packages (from langchain<1.0.0,>=0.3.20->langchain-community) (0.3.6)\n",
            "Requirement already satisfied: jsonpatch<2.0,>=1.33 in /usr/local/lib/python3.11/dist-packages (from langchain-core<1.0.0,>=0.3.41->langchain-community) (1.33)\n",
            "Requirement already satisfied: requests-toolbelt<2.0.0,>=1.0.0 in /usr/local/lib/python3.11/dist-packages (from langsmith<0.4,>=0.1.125->langchain-community) (1.0.0)\n",
            "Requirement already satisfied: zstandard<0.24.0,>=0.23.0 in /usr/local/lib/python3.11/dist-packages (from langsmith<0.4,>=0.1.125->langchain-community) (0.23.0)\n",
            "Requirement already satisfied: pytz>=2020.1 in /usr/local/lib/python3.11/dist-packages (from pandas<3.0,>=1.0->gradio) (2025.1)\n",
            "Requirement already satisfied: tzdata>=2022.7 in /usr/local/lib/python3.11/dist-packages (from pandas<3.0,>=1.0->gradio) (2025.1)\n",
            "Requirement already satisfied: annotated-types>=0.6.0 in /usr/local/lib/python3.11/dist-packages (from pydantic>=2.0->gradio) (0.7.0)\n",
            "Requirement already satisfied: pydantic-core==2.27.2 in /usr/local/lib/python3.11/dist-packages (from pydantic>=2.0->gradio) (2.27.2)\n",
            "Requirement already satisfied: python-dotenv>=0.21.0 in /usr/local/lib/python3.11/dist-packages (from pydantic-settings<3.0.0,>=2.4.0->langchain-community) (1.0.1)\n",
            "Requirement already satisfied: six>=1.5 in /usr/local/lib/python3.11/dist-packages (from python-dateutil>=2.7->matplotlib) (1.17.0)\n",
            "Requirement already satisfied: charset-normalizer<4,>=2 in /usr/local/lib/python3.11/dist-packages (from requests<3,>=2->langchain-community) (3.4.1)\n",
            "Requirement already satisfied: urllib3<3,>=1.21.1 in /usr/local/lib/python3.11/dist-packages (from requests<3,>=2->langchain-community) (2.3.0)\n",
            "Requirement already satisfied: greenlet!=0.4.17 in /usr/local/lib/python3.11/dist-packages (from SQLAlchemy<3,>=1.4->langchain-community) (3.1.1)\n",
            "Requirement already satisfied: click>=8.0.0 in /usr/local/lib/python3.11/dist-packages (from typer<1.0,>=0.12->gradio) (8.1.8)\n",
            "Requirement already satisfied: shellingham>=1.3.0 in /usr/local/lib/python3.11/dist-packages (from typer<1.0,>=0.12->gradio) (1.5.4)\n",
            "Requirement already satisfied: pyproject_hooks in /usr/local/lib/python3.11/dist-packages (from build>=1.0.3->chromadb!=0.5.10,!=0.5.11,!=0.5.12,!=0.5.4,!=0.5.5,!=0.5.7,!=0.5.9,<0.7.0,>=0.4.0->langchain_chroma) (1.2.0)\n",
            "Requirement already satisfied: jsonpointer>=1.9 in /usr/local/lib/python3.11/dist-packages (from jsonpatch<2.0,>=1.33->langchain-core<1.0.0,>=0.3.41->langchain-community) (3.0.0)\n",
            "Requirement already satisfied: google-auth>=1.0.1 in /usr/local/lib/python3.11/dist-packages (from kubernetes>=28.1.0->chromadb!=0.5.10,!=0.5.11,!=0.5.12,!=0.5.4,!=0.5.5,!=0.5.7,!=0.5.9,<0.7.0,>=0.4.0->langchain_chroma) (2.38.0)\n",
            "Requirement already satisfied: websocket-client!=0.40.0,!=0.41.*,!=0.42.*,>=0.32.0 in /usr/local/lib/python3.11/dist-packages (from kubernetes>=28.1.0->chromadb!=0.5.10,!=0.5.11,!=0.5.12,!=0.5.4,!=0.5.5,!=0.5.7,!=0.5.9,<0.7.0,>=0.4.0->langchain_chroma) (1.8.0)\n",
            "Requirement already satisfied: requests-oauthlib in /usr/local/lib/python3.11/dist-packages (from kubernetes>=28.1.0->chromadb!=0.5.10,!=0.5.11,!=0.5.12,!=0.5.4,!=0.5.5,!=0.5.7,!=0.5.9,<0.7.0,>=0.4.0->langchain_chroma) (2.0.0)\n",
            "Requirement already satisfied: oauthlib>=3.2.2 in /usr/local/lib/python3.11/dist-packages (from kubernetes>=28.1.0->chromadb!=0.5.10,!=0.5.11,!=0.5.12,!=0.5.4,!=0.5.5,!=0.5.7,!=0.5.9,<0.7.0,>=0.4.0->langchain_chroma) (3.2.2)\n",
            "Requirement already satisfied: durationpy>=0.7 in /usr/local/lib/python3.11/dist-packages (from kubernetes>=28.1.0->chromadb!=0.5.10,!=0.5.11,!=0.5.12,!=0.5.4,!=0.5.5,!=0.5.7,!=0.5.9,<0.7.0,>=0.4.0->langchain_chroma) (0.9)\n",
            "Requirement already satisfied: coloredlogs in /usr/local/lib/python3.11/dist-packages (from onnxruntime>=1.14.1->chromadb!=0.5.10,!=0.5.11,!=0.5.12,!=0.5.4,!=0.5.5,!=0.5.7,!=0.5.9,<0.7.0,>=0.4.0->langchain_chroma) (15.0.1)\n",
            "Requirement already satisfied: flatbuffers in /usr/local/lib/python3.11/dist-packages (from onnxruntime>=1.14.1->chromadb!=0.5.10,!=0.5.11,!=0.5.12,!=0.5.4,!=0.5.5,!=0.5.7,!=0.5.9,<0.7.0,>=0.4.0->langchain_chroma) (25.2.10)\n",
            "Requirement already satisfied: protobuf in /usr/local/lib/python3.11/dist-packages (from onnxruntime>=1.14.1->chromadb!=0.5.10,!=0.5.11,!=0.5.12,!=0.5.4,!=0.5.5,!=0.5.7,!=0.5.9,<0.7.0,>=0.4.0->langchain_chroma) (5.29.3)\n",
            "Requirement already satisfied: sympy in /usr/local/lib/python3.11/dist-packages (from onnxruntime>=1.14.1->chromadb!=0.5.10,!=0.5.11,!=0.5.12,!=0.5.4,!=0.5.5,!=0.5.7,!=0.5.9,<0.7.0,>=0.4.0->langchain_chroma) (1.13.1)\n",
            "Requirement already satisfied: deprecated>=1.2.6 in /usr/local/lib/python3.11/dist-packages (from opentelemetry-api>=1.2.0->chromadb!=0.5.10,!=0.5.11,!=0.5.12,!=0.5.4,!=0.5.5,!=0.5.7,!=0.5.9,<0.7.0,>=0.4.0->langchain_chroma) (1.2.18)\n",
            "Requirement already satisfied: importlib-metadata<8.7.0,>=6.0 in /usr/local/lib/python3.11/dist-packages (from opentelemetry-api>=1.2.0->chromadb!=0.5.10,!=0.5.11,!=0.5.12,!=0.5.4,!=0.5.5,!=0.5.7,!=0.5.9,<0.7.0,>=0.4.0->langchain_chroma) (8.6.1)\n",
            "Requirement already satisfied: googleapis-common-protos~=1.52 in /usr/local/lib/python3.11/dist-packages (from opentelemetry-exporter-otlp-proto-grpc>=1.2.0->chromadb!=0.5.10,!=0.5.11,!=0.5.12,!=0.5.4,!=0.5.5,!=0.5.7,!=0.5.9,<0.7.0,>=0.4.0->langchain_chroma) (1.69.1)\n",
            "Requirement already satisfied: opentelemetry-exporter-otlp-proto-common==1.31.0 in /usr/local/lib/python3.11/dist-packages (from opentelemetry-exporter-otlp-proto-grpc>=1.2.0->chromadb!=0.5.10,!=0.5.11,!=0.5.12,!=0.5.4,!=0.5.5,!=0.5.7,!=0.5.9,<0.7.0,>=0.4.0->langchain_chroma) (1.31.0)\n",
            "Requirement already satisfied: opentelemetry-proto==1.31.0 in /usr/local/lib/python3.11/dist-packages (from opentelemetry-exporter-otlp-proto-grpc>=1.2.0->chromadb!=0.5.10,!=0.5.11,!=0.5.12,!=0.5.4,!=0.5.5,!=0.5.7,!=0.5.9,<0.7.0,>=0.4.0->langchain_chroma) (1.31.0)\n",
            "Requirement already satisfied: opentelemetry-instrumentation-asgi==0.52b0 in /usr/local/lib/python3.11/dist-packages (from opentelemetry-instrumentation-fastapi>=0.41b0->chromadb!=0.5.10,!=0.5.11,!=0.5.12,!=0.5.4,!=0.5.5,!=0.5.7,!=0.5.9,<0.7.0,>=0.4.0->langchain_chroma) (0.52b0)\n",
            "Requirement already satisfied: opentelemetry-instrumentation==0.52b0 in /usr/local/lib/python3.11/dist-packages (from opentelemetry-instrumentation-fastapi>=0.41b0->chromadb!=0.5.10,!=0.5.11,!=0.5.12,!=0.5.4,!=0.5.5,!=0.5.7,!=0.5.9,<0.7.0,>=0.4.0->langchain_chroma) (0.52b0)\n",
            "Requirement already satisfied: opentelemetry-semantic-conventions==0.52b0 in /usr/local/lib/python3.11/dist-packages (from opentelemetry-instrumentation-fastapi>=0.41b0->chromadb!=0.5.10,!=0.5.11,!=0.5.12,!=0.5.4,!=0.5.5,!=0.5.7,!=0.5.9,<0.7.0,>=0.4.0->langchain_chroma) (0.52b0)\n",
            "Requirement already satisfied: opentelemetry-util-http==0.52b0 in /usr/local/lib/python3.11/dist-packages (from opentelemetry-instrumentation-fastapi>=0.41b0->chromadb!=0.5.10,!=0.5.11,!=0.5.12,!=0.5.4,!=0.5.5,!=0.5.7,!=0.5.9,<0.7.0,>=0.4.0->langchain_chroma) (0.52b0)\n",
            "Requirement already satisfied: wrapt<2.0.0,>=1.0.0 in /usr/local/lib/python3.11/dist-packages (from opentelemetry-instrumentation==0.52b0->opentelemetry-instrumentation-fastapi>=0.41b0->chromadb!=0.5.10,!=0.5.11,!=0.5.12,!=0.5.4,!=0.5.5,!=0.5.7,!=0.5.9,<0.7.0,>=0.4.0->langchain_chroma) (1.17.2)\n",
            "Requirement already satisfied: asgiref~=3.0 in /usr/local/lib/python3.11/dist-packages (from opentelemetry-instrumentation-asgi==0.52b0->opentelemetry-instrumentation-fastapi>=0.41b0->chromadb!=0.5.10,!=0.5.11,!=0.5.12,!=0.5.4,!=0.5.5,!=0.5.7,!=0.5.9,<0.7.0,>=0.4.0->langchain_chroma) (3.8.1)\n",
            "Requirement already satisfied: monotonic>=1.5 in /usr/local/lib/python3.11/dist-packages (from posthog>=2.4.0->chromadb!=0.5.10,!=0.5.11,!=0.5.12,!=0.5.4,!=0.5.5,!=0.5.7,!=0.5.9,<0.7.0,>=0.4.0->langchain_chroma) (1.6)\n",
            "Requirement already satisfied: backoff>=1.10.0 in /usr/local/lib/python3.11/dist-packages (from posthog>=2.4.0->chromadb!=0.5.10,!=0.5.11,!=0.5.12,!=0.5.4,!=0.5.5,!=0.5.7,!=0.5.9,<0.7.0,>=0.4.0->langchain_chroma) (2.2.1)\n",
            "Requirement already satisfied: markdown-it-py>=2.2.0 in /usr/local/lib/python3.11/dist-packages (from rich>=10.11.0->chromadb!=0.5.10,!=0.5.11,!=0.5.12,!=0.5.4,!=0.5.5,!=0.5.7,!=0.5.9,<0.7.0,>=0.4.0->langchain_chroma) (3.0.0)\n",
            "Requirement already satisfied: pygments<3.0.0,>=2.13.0 in /usr/local/lib/python3.11/dist-packages (from rich>=10.11.0->chromadb!=0.5.10,!=0.5.11,!=0.5.12,!=0.5.4,!=0.5.5,!=0.5.7,!=0.5.9,<0.7.0,>=0.4.0->langchain_chroma) (2.18.0)\n",
            "Requirement already satisfied: mypy-extensions>=0.3.0 in /usr/local/lib/python3.11/dist-packages (from typing-inspect<1,>=0.4.0->dataclasses-json<0.7,>=0.5.7->langchain-community) (1.0.0)\n",
            "Requirement already satisfied: httptools>=0.6.3 in /usr/local/lib/python3.11/dist-packages (from uvicorn[standard]>=0.18.3->chromadb!=0.5.10,!=0.5.11,!=0.5.12,!=0.5.4,!=0.5.5,!=0.5.7,!=0.5.9,<0.7.0,>=0.4.0->langchain_chroma) (0.6.4)\n",
            "Requirement already satisfied: uvloop!=0.15.0,!=0.15.1,>=0.14.0 in /usr/local/lib/python3.11/dist-packages (from uvicorn[standard]>=0.18.3->chromadb!=0.5.10,!=0.5.11,!=0.5.12,!=0.5.4,!=0.5.5,!=0.5.7,!=0.5.9,<0.7.0,>=0.4.0->langchain_chroma) (0.21.0)\n",
            "Requirement already satisfied: watchfiles>=0.13 in /usr/local/lib/python3.11/dist-packages (from uvicorn[standard]>=0.18.3->chromadb!=0.5.10,!=0.5.11,!=0.5.12,!=0.5.4,!=0.5.5,!=0.5.7,!=0.5.9,<0.7.0,>=0.4.0->langchain_chroma) (1.0.4)\n",
            "Requirement already satisfied: cachetools<6.0,>=2.0.0 in /usr/local/lib/python3.11/dist-packages (from google-auth>=1.0.1->kubernetes>=28.1.0->chromadb!=0.5.10,!=0.5.11,!=0.5.12,!=0.5.4,!=0.5.5,!=0.5.7,!=0.5.9,<0.7.0,>=0.4.0->langchain_chroma) (5.5.2)\n",
            "Requirement already satisfied: pyasn1-modules>=0.2.1 in /usr/local/lib/python3.11/dist-packages (from google-auth>=1.0.1->kubernetes>=28.1.0->chromadb!=0.5.10,!=0.5.11,!=0.5.12,!=0.5.4,!=0.5.5,!=0.5.7,!=0.5.9,<0.7.0,>=0.4.0->langchain_chroma) (0.4.1)\n",
            "Requirement already satisfied: rsa<5,>=3.1.4 in /usr/local/lib/python3.11/dist-packages (from google-auth>=1.0.1->kubernetes>=28.1.0->chromadb!=0.5.10,!=0.5.11,!=0.5.12,!=0.5.4,!=0.5.5,!=0.5.7,!=0.5.9,<0.7.0,>=0.4.0->langchain_chroma) (4.9)\n",
            "Requirement already satisfied: zipp>=3.20 in /usr/local/lib/python3.11/dist-packages (from importlib-metadata<8.7.0,>=6.0->opentelemetry-api>=1.2.0->chromadb!=0.5.10,!=0.5.11,!=0.5.12,!=0.5.4,!=0.5.5,!=0.5.7,!=0.5.9,<0.7.0,>=0.4.0->langchain_chroma) (3.21.0)\n",
            "Requirement already satisfied: mdurl~=0.1 in /usr/local/lib/python3.11/dist-packages (from markdown-it-py>=2.2.0->rich>=10.11.0->chromadb!=0.5.10,!=0.5.11,!=0.5.12,!=0.5.4,!=0.5.5,!=0.5.7,!=0.5.9,<0.7.0,>=0.4.0->langchain_chroma) (0.1.2)\n",
            "Requirement already satisfied: humanfriendly>=9.1 in /usr/local/lib/python3.11/dist-packages (from coloredlogs->onnxruntime>=1.14.1->chromadb!=0.5.10,!=0.5.11,!=0.5.12,!=0.5.4,!=0.5.5,!=0.5.7,!=0.5.9,<0.7.0,>=0.4.0->langchain_chroma) (10.0)\n",
            "Requirement already satisfied: mpmath<1.4,>=1.1.0 in /usr/local/lib/python3.11/dist-packages (from sympy->onnxruntime>=1.14.1->chromadb!=0.5.10,!=0.5.11,!=0.5.12,!=0.5.4,!=0.5.5,!=0.5.7,!=0.5.9,<0.7.0,>=0.4.0->langchain_chroma) (1.3.0)\n",
            "Requirement already satisfied: pyasn1<0.7.0,>=0.4.6 in /usr/local/lib/python3.11/dist-packages (from pyasn1-modules>=0.2.1->google-auth>=1.0.1->kubernetes>=28.1.0->chromadb!=0.5.10,!=0.5.11,!=0.5.12,!=0.5.4,!=0.5.5,!=0.5.7,!=0.5.9,<0.7.0,>=0.4.0->langchain_chroma) (0.6.1)\n"
          ]
        }
      ],
      "source": [
        "!pip install gradio langchain-community openai tiktoken langchain_openai langchain_chroma matplotlib scikit-learn numpy plotly"
      ]
    },
    {
      "cell_type": "code",
      "execution_count": null,
      "metadata": {
        "id": "ucPMkkA9PBAz"
      },
      "outputs": [],
      "source": [
        "import os\n",
        "import glob\n",
        "import gradio as gr"
      ]
    },
    {
      "cell_type": "code",
      "execution_count": null,
      "metadata": {
        "id": "vuBLjvB9UdCl"
      },
      "outputs": [],
      "source": [
        "from langchain.document_loaders import DirectoryLoader, TextLoader\n",
        "from langchain.text_splitter import CharacterTextSplitter\n",
        "from langchain.schema import Document\n",
        "from langchain_openai import OpenAIEmbeddings, ChatOpenAI\n",
        "from langchain_chroma import Chroma\n",
        "import matplotlib.pyplot as plt\n",
        "from sklearn.manifold import TSNE\n",
        "import numpy as np\n",
        "import plotly.graph_objects as go\n",
        "from langchain.memory import ConversationBufferMemory\n",
        "from langchain.chains import ConversationalRetrievalChain\n",
        "from langchain.embeddings import HuggingFaceEmbeddings\n",
        "from langchain import HuggingFacePipeline\n",
        "from transformers import pipeline"
      ]
    },
    {
      "cell_type": "code",
      "execution_count": null,
      "metadata": {
        "id": "isnlrtujVX4R"
      },
      "outputs": [],
      "source": [
        "MODEL = \"llama3.2\"\n",
        "db_name = \"vector_db\""
      ]
    },
    {
      "cell_type": "code",
      "execution_count": null,
      "metadata": {
        "id": "MQzLeI_MVhYm"
      },
      "outputs": [],
      "source": [
        "folders = glob.glob(\"/content/drive/MyDrive/personal/*\")\n",
        "text_loader_kwargs = {'encoding': 'utf-8'}\n",
        "documents = []\n",
        "\n",
        "for folder in folders:\n",
        "    doc_type = os.path.basename(folder)\n",
        "    loader = DirectoryLoader(folder, glob=\"**/*.txt\", loader_cls=TextLoader, loader_kwargs=text_loader_kwargs)\n",
        "    folder_docs = loader.load()\n",
        "    for doc in folder_docs:\n",
        "        doc.metadata[\"doc_type\"] = doc_type\n",
        "        documents.append(doc)"
      ]
    },
    {
      "cell_type": "code",
      "execution_count": null,
      "metadata": {
        "colab": {
          "base_uri": "https://localhost:8080/"
        },
        "id": "ULrF_E2UW2XZ",
        "outputId": "d3bad8f6-15a5-4091-fce0-e37726c1eb26"
      },
      "outputs": [
        {
          "name": "stderr",
          "output_type": "stream",
          "text": [
            "WARNING:langchain_text_splitters.base:Created a chunk of size 154, which is longer than the specified 100\n",
            "WARNING:langchain_text_splitters.base:Created a chunk of size 222, which is longer than the specified 100\n",
            "WARNING:langchain_text_splitters.base:Created a chunk of size 310, which is longer than the specified 100\n",
            "WARNING:langchain_text_splitters.base:Created a chunk of size 170, which is longer than the specified 100\n",
            "WARNING:langchain_text_splitters.base:Created a chunk of size 177, which is longer than the specified 100\n",
            "WARNING:langchain_text_splitters.base:Created a chunk of size 174, which is longer than the specified 100\n",
            "WARNING:langchain_text_splitters.base:Created a chunk of size 125, which is longer than the specified 100\n",
            "WARNING:langchain_text_splitters.base:Created a chunk of size 235, which is longer than the specified 100\n",
            "WARNING:langchain_text_splitters.base:Created a chunk of size 199, which is longer than the specified 100\n",
            "WARNING:langchain_text_splitters.base:Created a chunk of size 150, which is longer than the specified 100\n",
            "WARNING:langchain_text_splitters.base:Created a chunk of size 131, which is longer than the specified 100\n",
            "WARNING:langchain_text_splitters.base:Created a chunk of size 178, which is longer than the specified 100\n",
            "WARNING:langchain_text_splitters.base:Created a chunk of size 178, which is longer than the specified 100\n",
            "WARNING:langchain_text_splitters.base:Created a chunk of size 118, which is longer than the specified 100\n",
            "WARNING:langchain_text_splitters.base:Created a chunk of size 116, which is longer than the specified 100\n",
            "WARNING:langchain_text_splitters.base:Created a chunk of size 103, which is longer than the specified 100\n",
            "WARNING:langchain_text_splitters.base:Created a chunk of size 128, which is longer than the specified 100\n",
            "WARNING:langchain_text_splitters.base:Created a chunk of size 215, which is longer than the specified 100\n",
            "WARNING:langchain_text_splitters.base:Created a chunk of size 153, which is longer than the specified 100\n",
            "WARNING:langchain_text_splitters.base:Created a chunk of size 258, which is longer than the specified 100\n",
            "WARNING:langchain_text_splitters.base:Created a chunk of size 232, which is longer than the specified 100\n",
            "WARNING:langchain_text_splitters.base:Created a chunk of size 249, which is longer than the specified 100\n",
            "WARNING:langchain_text_splitters.base:Created a chunk of size 110, which is longer than the specified 100\n",
            "WARNING:langchain_text_splitters.base:Created a chunk of size 143, which is longer than the specified 100\n",
            "WARNING:langchain_text_splitters.base:Created a chunk of size 181, which is longer than the specified 100\n",
            "WARNING:langchain_text_splitters.base:Created a chunk of size 252, which is longer than the specified 100\n",
            "WARNING:langchain_text_splitters.base:Created a chunk of size 270, which is longer than the specified 100\n",
            "WARNING:langchain_text_splitters.base:Created a chunk of size 257, which is longer than the specified 100\n",
            "WARNING:langchain_text_splitters.base:Created a chunk of size 250, which is longer than the specified 100\n",
            "WARNING:langchain_text_splitters.base:Created a chunk of size 208, which is longer than the specified 100\n",
            "WARNING:langchain_text_splitters.base:Created a chunk of size 296, which is longer than the specified 100\n",
            "WARNING:langchain_text_splitters.base:Created a chunk of size 264, which is longer than the specified 100\n",
            "WARNING:langchain_text_splitters.base:Created a chunk of size 259, which is longer than the specified 100\n",
            "WARNING:langchain_text_splitters.base:Created a chunk of size 250, which is longer than the specified 100\n",
            "WARNING:langchain_text_splitters.base:Created a chunk of size 209, which is longer than the specified 100\n",
            "WARNING:langchain_text_splitters.base:Created a chunk of size 320, which is longer than the specified 100\n",
            "WARNING:langchain_text_splitters.base:Created a chunk of size 317, which is longer than the specified 100\n",
            "WARNING:langchain_text_splitters.base:Created a chunk of size 244, which is longer than the specified 100\n",
            "WARNING:langchain_text_splitters.base:Created a chunk of size 249, which is longer than the specified 100\n",
            "WARNING:langchain_text_splitters.base:Created a chunk of size 250, which is longer than the specified 100\n",
            "WARNING:langchain_text_splitters.base:Created a chunk of size 111, which is longer than the specified 100\n",
            "WARNING:langchain_text_splitters.base:Created a chunk of size 190, which is longer than the specified 100\n",
            "WARNING:langchain_text_splitters.base:Created a chunk of size 172, which is longer than the specified 100\n",
            "WARNING:langchain_text_splitters.base:Created a chunk of size 446, which is longer than the specified 100\n",
            "WARNING:langchain_text_splitters.base:Created a chunk of size 241, which is longer than the specified 100\n",
            "WARNING:langchain_text_splitters.base:Created a chunk of size 118, which is longer than the specified 100\n",
            "WARNING:langchain_text_splitters.base:Created a chunk of size 106, which is longer than the specified 100\n",
            "WARNING:langchain_text_splitters.base:Created a chunk of size 214, which is longer than the specified 100\n",
            "WARNING:langchain_text_splitters.base:Created a chunk of size 133, which is longer than the specified 100\n",
            "WARNING:langchain_text_splitters.base:Created a chunk of size 350, which is longer than the specified 100\n",
            "WARNING:langchain_text_splitters.base:Created a chunk of size 152, which is longer than the specified 100\n",
            "WARNING:langchain_text_splitters.base:Created a chunk of size 147, which is longer than the specified 100\n",
            "WARNING:langchain_text_splitters.base:Created a chunk of size 140, which is longer than the specified 100\n",
            "WARNING:langchain_text_splitters.base:Created a chunk of size 195, which is longer than the specified 100\n",
            "WARNING:langchain_text_splitters.base:Created a chunk of size 257, which is longer than the specified 100\n",
            "WARNING:langchain_text_splitters.base:Created a chunk of size 278, which is longer than the specified 100\n",
            "WARNING:langchain_text_splitters.base:Created a chunk of size 231, which is longer than the specified 100\n",
            "WARNING:langchain_text_splitters.base:Created a chunk of size 206, which is longer than the specified 100\n",
            "WARNING:langchain_text_splitters.base:Created a chunk of size 160, which is longer than the specified 100\n",
            "WARNING:langchain_text_splitters.base:Created a chunk of size 174, which is longer than the specified 100\n",
            "WARNING:langchain_text_splitters.base:Created a chunk of size 216, which is longer than the specified 100\n",
            "WARNING:langchain_text_splitters.base:Created a chunk of size 115, which is longer than the specified 100\n",
            "WARNING:langchain_text_splitters.base:Created a chunk of size 198, which is longer than the specified 100\n",
            "WARNING:langchain_text_splitters.base:Created a chunk of size 189, which is longer than the specified 100\n",
            "WARNING:langchain_text_splitters.base:Created a chunk of size 184, which is longer than the specified 100\n",
            "WARNING:langchain_text_splitters.base:Created a chunk of size 161, which is longer than the specified 100\n",
            "WARNING:langchain_text_splitters.base:Created a chunk of size 162, which is longer than the specified 100\n",
            "WARNING:langchain_text_splitters.base:Created a chunk of size 158, which is longer than the specified 100\n",
            "WARNING:langchain_text_splitters.base:Created a chunk of size 167, which is longer than the specified 100\n",
            "WARNING:langchain_text_splitters.base:Created a chunk of size 164, which is longer than the specified 100\n",
            "WARNING:langchain_text_splitters.base:Created a chunk of size 123, which is longer than the specified 100\n",
            "WARNING:langchain_text_splitters.base:Created a chunk of size 552, which is longer than the specified 100\n",
            "WARNING:langchain_text_splitters.base:Created a chunk of size 212, which is longer than the specified 100\n",
            "WARNING:langchain_text_splitters.base:Created a chunk of size 156, which is longer than the specified 100\n",
            "WARNING:langchain_text_splitters.base:Created a chunk of size 128, which is longer than the specified 100\n",
            "WARNING:langchain_text_splitters.base:Created a chunk of size 193, which is longer than the specified 100\n"
          ]
        }
      ],
      "source": [
        "text_splitter = CharacterTextSplitter(chunk_size=100, chunk_overlap=10)\n",
        "chunks = text_splitter.split_documents(documents)"
      ]
    },
    {
      "cell_type": "code",
      "execution_count": null,
      "metadata": {
        "colab": {
          "base_uri": "https://localhost:8080/"
        },
        "id": "fe5gjN0HW7Um",
        "outputId": "2f2766e0-0a6d-4166-e300-ca449b006464"
      },
      "outputs": [
        {
          "data": {
            "text/plain": [
              "134"
            ]
          },
          "execution_count": 108,
          "metadata": {},
          "output_type": "execute_result"
        }
      ],
      "source": [
        "len(chunks)"
      ]
    },
    {
      "cell_type": "code",
      "execution_count": null,
      "metadata": {
        "colab": {
          "base_uri": "https://localhost:8080/"
        },
        "id": "0T06ei05XGQV",
        "outputId": "63925f91-ac73-4989-9f91-f0c5fe382061"
      },
      "outputs": [
        {
          "name": "stdout",
          "output_type": "stream",
          "text": [
            "Document types found: emails, journal, documents, conversations\n"
          ]
        }
      ],
      "source": [
        "doc_types = set(chunk.metadata['doc_type'] for chunk in chunks)\n",
        "print(f\"Document types found: {', '.join(doc_types)}\")"
      ]
    },
    {
      "cell_type": "code",
      "execution_count": null,
      "metadata": {
        "id": "5FyzRrzyXJW_"
      },
      "outputs": [],
      "source": [
        "from langchain.embeddings import HuggingFaceEmbeddings\n",
        "embeddings = HuggingFaceEmbeddings(model_name=\"sentence-transformers/all-MiniLM-L6-v2\")"
      ]
    },
    {
      "cell_type": "code",
      "execution_count": null,
      "metadata": {
        "id": "TEHc87RTX8JQ"
      },
      "outputs": [],
      "source": [
        "if os.path.exists(db_name):\n",
        "    Chroma(persist_directory=db_name, embedding_function=embeddings).delete_collection()"
      ]
    },
    {
      "cell_type": "code",
      "execution_count": null,
      "metadata": {
        "colab": {
          "base_uri": "https://localhost:8080/"
        },
        "id": "b_VQBUtmYBjW",
        "outputId": "5f64fa98-ec06-4c9d-c97a-27f4f44e5514"
      },
      "outputs": [
        {
          "name": "stdout",
          "output_type": "stream",
          "text": [
            "Vectorstore created with 134 documents\n"
          ]
        }
      ],
      "source": [
        "vectorstore = Chroma.from_documents(documents=chunks, embedding=embeddings, persist_directory=db_name)\n",
        "print(f\"Vectorstore created with {vectorstore._collection.count()} documents\")"
      ]
    },
    {
      "cell_type": "code",
      "execution_count": null,
      "metadata": {
        "colab": {
          "base_uri": "https://localhost:8080/"
        },
        "id": "Bf9w15QUYIX5",
        "outputId": "44a8755d-543b-495a-b48e-c65e27d64d77"
      },
      "outputs": [
        {
          "name": "stdout",
          "output_type": "stream",
          "text": [
            "The vectors have 384 dimensions\n"
          ]
        }
      ],
      "source": [
        "collection = vectorstore._collection\n",
        "sample_embedding = collection.get(limit=1, include=[\"embeddings\"])[\"embeddings\"][0]\n",
        "dimensions = len(sample_embedding)\n",
        "print(f\"The vectors have {dimensions:,} dimensions\")"
      ]
    },
    {
      "cell_type": "code",
      "execution_count": null,
      "metadata": {
        "id": "BbWEntEoYVWt"
      },
      "outputs": [],
      "source": [
        "result = collection.get(include=['embeddings', 'documents', 'metadatas'])\n",
        "vectors = np.array(result['embeddings'])\n",
        "documents = result['documents']\n",
        "doc_types = [metadata['doc_type'] for metadata in result['metadatas']]\n",
        "colors = [['blue', 'green', 'red', 'orange'][['conversations', 'emails', 'documents', 'journal'].index(t)] for t in doc_types]"
      ]
    },
    {
      "cell_type": "code",
      "execution_count": null,
      "metadata": {
        "colab": {
          "base_uri": "https://localhost:8080/",
          "height": 617
        },
        "id": "VSyu0OhOYjn-",
        "outputId": "a971c3a8-b02f-45ce-b4d6-409546b82791"
      },
      "outputs": [
        {
          "data": {
            "text/html": [
              "<html>\n",
              "<head><meta charset=\"utf-8\" /></head>\n",
              "<body>\n",
              "    <div>            <script src=\"https://cdnjs.cloudflare.com/ajax/libs/mathjax/2.7.5/MathJax.js?config=TeX-AMS-MML_SVG\"></script><script type=\"text/javascript\">if (window.MathJax && window.MathJax.Hub && window.MathJax.Hub.Config) {window.MathJax.Hub.Config({SVG: {font: \"STIX-Web\"}});}</script>                <script type=\"text/javascript\">window.PlotlyConfig = {MathJaxConfig: 'local'};</script>\n",
              "        <script charset=\"utf-8\" src=\"https://cdn.plot.ly/plotly-2.35.2.min.js\"></script>                <div id=\"4a780f10-7093-44ed-95a3-e0f21fb83d2d\" class=\"plotly-graph-div\" style=\"height:600px; width:800px;\"></div>            <script type=\"text/javascript\">                                    window.PLOTLYENV=window.PLOTLYENV || {};                                    if (document.getElementById(\"4a780f10-7093-44ed-95a3-e0f21fb83d2d\")) {                    Plotly.newPlot(                        \"4a780f10-7093-44ed-95a3-e0f21fb83d2d\",                        [{\"hoverinfo\":\"text\",\"marker\":{\"color\":[\"green\",\"green\",\"green\",\"green\",\"green\",\"green\",\"green\",\"green\",\"green\",\"green\",\"green\",\"green\",\"green\",\"green\",\"green\",\"green\",\"green\",\"green\",\"green\",\"green\",\"green\",\"green\",\"green\",\"green\",\"green\",\"green\",\"green\",\"green\",\"green\",\"green\",\"green\",\"green\",\"green\",\"green\",\"green\",\"green\",\"green\",\"green\",\"green\",\"green\",\"green\",\"green\",\"green\",\"green\",\"green\",\"green\",\"green\",\"green\",\"green\",\"green\",\"green\",\"orange\",\"orange\",\"orange\",\"orange\",\"orange\",\"orange\",\"orange\",\"orange\",\"orange\",\"orange\",\"orange\",\"orange\",\"orange\",\"orange\",\"orange\",\"orange\",\"orange\",\"orange\",\"orange\",\"orange\",\"orange\",\"orange\",\"orange\",\"orange\",\"orange\",\"orange\",\"red\",\"red\",\"red\",\"red\",\"red\",\"red\",\"blue\",\"blue\",\"blue\",\"blue\",\"blue\",\"blue\",\"blue\",\"blue\",\"blue\",\"blue\",\"blue\",\"blue\",\"blue\",\"blue\",\"blue\",\"blue\",\"blue\",\"blue\",\"blue\",\"blue\",\"blue\",\"blue\",\"blue\",\"blue\",\"blue\",\"blue\",\"blue\",\"blue\",\"blue\",\"blue\",\"blue\",\"blue\",\"blue\",\"blue\",\"blue\",\"blue\",\"blue\",\"blue\",\"blue\",\"blue\",\"blue\",\"blue\",\"blue\",\"blue\",\"blue\",\"blue\",\"blue\",\"blue\",\"blue\",\"blue\",\"blue\"],\"opacity\":0.8,\"size\":5},\"mode\":\"markers\",\"text\":[\"Type: emails\\u003cbr\\u003eText: Email Thread Documentation\\n\\nDate: \\nSubject:\\nFrom:\\nTo:\\nCC:\\n\\nEmail Content:\\n-------------------...\",\"Type: emails\\u003cbr\\u003eText: Key Points:\\n-\\n-\\n-\\n\\nAction Items:\\n- [ ]\\n- [ ]\\n\\nFollow-up Required:\\nYes\\u002fNo\\n\\nResponse Deadline:...\",\"Type: emails\\u003cbr\\u003eText: Additional Notes:...\",\"Type: emails\\u003cbr\\u003eText: Email Thread Documentation...\",\"Type: emails\\u003cbr\\u003eText: Date: 10\\u002f01\\u002f2024\\nSubject: Reference Letter Request - Graduate Studies\\nFrom: hr@digikala.com\\nTo: amir...\",\"Type: emails\\u003cbr\\u003eText: Email Content:\\n-------------------\\nDear AmirHossein,...\",\"Type: emails\\u003cbr\\u003eText: Thank you for your request for a reference letter for your graduate studies at Politecnico di Torino...\",\"Type: emails\\u003cbr\\u003eText: I have attached the signed reference letter highlighting your achievements:\\n- Lead developer on our ...\",\"Type: emails\\u003cbr\\u003eText: The letter has been signed by both your direct supervisor and our CTO....\",\"Type: emails\\u003cbr\\u003eText: Key Points:\\n- Reference letter completed and signed\\n- Detailed project contributions included\\n- Perf...\",\"Type: emails\\u003cbr\\u003eText: Action Items:\\n- [x] Download reference letter\\n- [ ] Confirm receipt\\n- [ ] Send thank you note...\",\"Type: emails\\u003cbr\\u003eText: Follow-up Required:\\nYes\\n\\nResponse Deadline:\\n12\\u002f01\\u002f2024...\",\"Type: emails\\u003cbr\\u003eText: Additional Notes:\\nPlease let us know if any modifications are needed for your application....\",\"Type: emails\\u003cbr\\u003eText: Email Thread Documentation...\",\"Type: emails\\u003cbr\\u003eText: Date: 15\\u002f01\\u002f2024\\nSubject: Master's Program Admission Decision - Computer Engineering\\nFrom: admission...\",\"Type: emails\\u003cbr\\u003eText: Email Content:\\n-------------------\\nDear Mr. AmirHossein Ranjbar,...\",\"Type: emails\\u003cbr\\u003eText: We are pleased to inform you that your application to the Master's Program in Computer Engineering a...\",\"Type: emails\\u003cbr\\u003eText: Your strong academic background and professional experience at Digikala have made you an excellent c...\",\"Type: emails\\u003cbr\\u003eText: Please complete the following steps to confirm your enrollment:\\n1. Accept the offer through the appl...\",\"Type: emails\\u003cbr\\u003eText: Key Points:\\n- Admission confirmed for Master's in Computer Engineering\\n- Program starts: February 20...\",\"Type: emails\\u003cbr\\u003eText: Action Items:\\n- [x] Accept offer through portal\\n- [ ] Complete enrollment fee payment\\n- [ ] Submit h...\",\"Type: emails\\u003cbr\\u003eText: Follow-up Required:\\nYes\\n\\nResponse Deadline:\\n25\\u002f01\\u002f2024...\",\"Type: emails\\u003cbr\\u003eText: Additional Notes:\\nRemember to bring original documents for verification during orientation week....\",\"Type: emails\\u003cbr\\u003eText: Email Thread Documentation...\",\"Type: emails\\u003cbr\\u003eText: Date: March 21, 2024\\nSubject: Weekend Adventure Planning 🎬🍝\\nFrom: sara.bianchi@example.com\\nTo: amirh...\",\"Type: emails\\u003cbr\\u003eText: Email Content:\\n-------------------\\nCaro Amir,...\",\"Type: emails\\u003cbr\\u003eText: Ready for our weekend cooking adventure? 😊 I still can't believe you tried to add pineapple to pasta...\",\"Type: emails\\u003cbr\\u003eText: I promise to teach you REAL Italian cooking this time - no crazy experiments! Though I must admit, y...\",\"Type: emails\\u003cbr\\u003eText: For Saturday:\\n1. Market shopping at Porta Palazzo\\n2. Cooking lesson at my place\\n3. Movie night - NO ...\",\"Type: emails\\u003cbr\\u003eText: Also, remember we have dinner with my parents next week. Please don't tell them about the pineapple ...\",\"Type: emails\\u003cbr\\u003eText: Ti voglio bene ❤️\\nSara...\",\"Type: emails\\u003cbr\\u003eText: P.S. I found your chess pieces hidden in my bookshelf. No more \\\"forgetting\\\" them to get extra visits...\",\"Type: emails\\u003cbr\\u003eText: Key Points:\\n- Saturday market + cooking date\\n- Movie night (no sci-fi)\\n- Chess pieces discovered\\n- D...\",\"Type: emails\\u003cbr\\u003eText: Action Items:\\n- [ ] Buy ingredients for authentic Italian cooking\\n- [ ] Return Sara's Italian gramma...\",\"Type: emails\\u003cbr\\u003eText: Follow-up Required:\\nYes\\n\\nResponse Deadline:\\nASAP (Before she finds more hidden chess pieces)...\",\"Type: emails\\u003cbr\\u003eText: Additional Notes:\\nMust remember: NO pineapple experiments this time!...\",\"Type: emails\\u003cbr\\u003eText: Email Thread Documentation...\",\"Type: emails\\u003cbr\\u003eText: Date: March 19, 2024\\nSubject: Persian-Italian Language Exchange Progress Report 📚\\nFrom: sara.bianchi...\",\"Type: emails\\u003cbr\\u003eText: Email Content:\\n-------------------\\nAzizam (Did I write it correctly? 😊),...\",\"Type: emails\\u003cbr\\u003eText: Just practicing my Persian! Here's our weekly language progress report:...\",\"Type: emails\\u003cbr\\u003eText: Your Italian Progress:\\n✅ Finally stopped saying \\\"gracie\\\" instead of \\\"grazie\\\"\\n❌ Still struggling with...\",\"Type: emails\\u003cbr\\u003eText: My Persian Progress:\\n✅ Can now count to 20 without mixing up numbers\\n❌ Still can't pronounce \\\"kh\\\" pr...\",\"Type: emails\\u003cbr\\u003eText: Funny Moments This Week:\\n1. You telling my friend \\\"sono annanasto\\\" (I am pineapple) instead of \\\"sono...\",\"Type: emails\\u003cbr\\u003eText: Next Week's Goals:\\nYou: Practice \\\"gli\\\" sound 100 times\\nMe: Learn more Persian endearments (other tha...\",\"Type: emails\\u003cbr\\u003eText: Ti amo & Dooset daram! ❤️\\n(See, I'm getting better!)\\n\\nSara...\",\"Type: emails\\u003cbr\\u003eText: P.S. Your chess pieces are now hidden with better Italian vocabulary cards - find them if you can! 😘...\",\"Type: emails\\u003cbr\\u003eText: Key Points:\\n- Language progress tracking\\n- Funny mistakes documentation\\n- Next week's learning goals...\",\"Type: emails\\u003cbr\\u003eText: Action Items:\\n- [ ] Practice formal Italian for family dinner\\n- [ ] Help Sara with Persian pronuncia...\",\"Type: emails\\u003cbr\\u003eText: Follow-up Required:\\nYes (especially about the chess pieces)...\",\"Type: emails\\u003cbr\\u003eText: Response Deadline:\\nBefore our next cooking disaster 😉...\",\"Type: emails\\u003cbr\\u003eText: Additional Notes:\\nMaybe we should start a blog: \\\"Love in Translation: Persian-Italian Edition\\\"...\",\"Type: journal\\u003cbr\\u003eText: Date: \\n\\nTopic: \\n\\nDear Journal,\\n\\n[Your daily reflection here]\\n\\nToday's Highlights:\\n-\\n-\\n-...\",\"Type: journal\\u003cbr\\u003eText: Challenges faced:\\n-\\n-\\n\\nLessons learned:\\n-\\n-\\n\\nGoals for tomorrow:\\n-\\n-...\",\"Type: journal\\u003cbr\\u003eText: Mood: \\nEnergy Level (1-10): \\nProductivity (1-10):...\",\"Type: journal\\u003cbr\\u003eText: Date: March 20, 2024\\n\\nTopic: Academic Progress and Language Learning\\n\\nDear Journal,...\",\"Type: journal\\u003cbr\\u003eText: Had an intensive day focusing on both academic work and language learning. My background in software...\",\"Type: journal\\u003cbr\\u003eText: Today's Highlights:\\n- Received positive feedback on my distributed systems project proposal\\n- Had my...\",\"Type: journal\\u003cbr\\u003eText: Challenges faced:\\n- Some concepts in theoretical computer science require extra study time\\n- Balanci...\",\"Type: journal\\u003cbr\\u003eText: Lessons learned:\\n- My practical experience helps in understanding complex systems\\n- Regular language...\",\"Type: journal\\u003cbr\\u003eText: Goals for tomorrow:\\n- Prepare presentation for the AI seminar\\n- Complete the week's Italian homework...\",\"Type: journal\\u003cbr\\u003eText: Mood: Focused\\nEnergy Level (1-10): 7\\nProductivity (1-10): 9...\",\"Type: journal\\u003cbr\\u003eText: Date: March 15, 2024\\n\\nTopic: First Weeks in Turin and Starting at Polito\\n\\nDear Journal,...\",\"Type: journal\\u003cbr\\u003eText: Today marks my first month in Turin, and what an incredible journey it's been so far. The transition...\",\"Type: journal\\u003cbr\\u003eText: Today's Highlights:\\n- Completed my first Computer Vision assignment with a good grade\\n- Had a produc...\",\"Type: journal\\u003cbr\\u003eText: Challenges faced:\\n- Still adjusting to speaking Italian in daily situations\\n- Managing time between ...\",\"Type: journal\\u003cbr\\u003eText: Lessons learned:\\n- The importance of creating a structured study schedule\\n- Need to dedicate more ti...\",\"Type: journal\\u003cbr\\u003eText: Goals for tomorrow:\\n- Start the distributed systems project\\n- Attend the Italian language exchange m...\",\"Type: journal\\u003cbr\\u003eText: Mood: Optimistic\\nEnergy Level (1-10): 8\\nProductivity (1-10): 7...\",\"Type: journal\\u003cbr\\u003eText: Date: March 24, 2024\\n\\nTopic: Cultural Clashes and Cooking Adventures with Sara\\n\\nDear Journal,...\",\"Type: journal\\u003cbr\\u003eText: Today was another episode of \\\"When Persian Meets Italian\\\" - our ongoing comedy series! 😂...\",\"Type: journal\\u003cbr\\u003eText: Today's Highlights:\\n- Attempted to make Sara's nonna's secret pasta recipe\\n- Successfully explained ...\",\"Type: journal\\u003cbr\\u003eText: Challenges faced:\\n- Sara caught me trying to sneak saffron into her family's traditional recipe\\n- St...\",\"Type: journal\\u003cbr\\u003eText: Lessons learned:\\n- Never argue with an Italian about pasta\\n- Hiding chess pieces around her apartmen...\",\"Type: journal\\u003cbr\\u003eText: Goals for tomorrow:\\n- Practice proper Italian pronunciation without Sara's giggles\\n- Find my chess p...\",\"Type: journal\\u003cbr\\u003eText: Funny Moments:\\n1. Sara's face when I suggested adding zereshk to risotto\\n2. Her attempt to pronounce...\",\"Type: journal\\u003cbr\\u003eText: Mood: Amused and In Love\\nEnergy Level (1-10): 9\\nProductivity (1-10): 6 (Too much laughing, not enoug...\",\"Type: journal\\u003cbr\\u003eText: P.S. Note to self: Stop using \\\"but in Iran we do it this way\\\" in cooking arguments - it's not workin...\",\"Type: documents\\u003cbr\\u003eText: Full Name: AmirHossein Ranjbar\\nDate of Birth: 31\\u002f07\\u002f2000\\nPlace of Birth: Tehran, Iran\\nCurrent Locati...\",\"Type: documents\\u003cbr\\u003eText: Education: \\n- Degree: Master's\\n- Institution: Politecnico di Torino (Polito)\\n- Year: 2024 - Present...\",\"Type: documents\\u003cbr\\u003eText: Work Experience:\\n1. Company: Digikala\\n   Position: Software Engineer\\n   Duration: 3Y 1M...\",\"Type: documents\\u003cbr\\u003eText: 2. Company: Agileful\\n   Position: Front-End Developer\\n   Duration: 1Y...\",\"Type: documents\\u003cbr\\u003eText: Languages:\\n- English\\n- German\\n- Italian...\",\"Type: documents\\u003cbr\\u003eText: Interests:\\n- Tennis\\n- Chess\\n- Reading Non-Fiction Books\\n- Watching Sci-Fi\\n- Cooking Italian Food (Ne...\",\"Type: conversations\\u003cbr\\u003eText: Meeting Date:\\nTime:\\nLocation\\u002fPlatform:\\nAttendees:\\n\\nMeeting Topic:\\n\\nAgenda Items:\\n1.\\n2.\\n3....\",\"Type: conversations\\u003cbr\\u003eText: Key Discussion Points:\\n-\\n-\\n-\\n\\nAction Items:\\n- [ ] \\n- [ ] \\n- [ ]\\n\\nDecisions Made:\\n1.\\n2....\",\"Type: conversations\\u003cbr\\u003eText: Follow-up Required:\\n-\\n-\\n\\nAdditional Notes:\\n\\nNext Meeting:\\nDate:\\nTime:...\",\"Type: conversations\\u003cbr\\u003eText: Meeting Date: March 18, 2024\\nTime: 16:00-18:30\\nLocation\\u002fPlatform: University Library Study Room 204\\n...\",\"Type: conversations\\u003cbr\\u003eText: Meeting Topic: Machine Learning Project Collaboration...\",\"Type: conversations\\u003cbr\\u003eText: Agenda Items:\\n1. Project task distribution\\n2. Timeline planning\\n3. Technical approach discussion...\",\"Type: conversations\\u003cbr\\u003eText: Key Discussion Points:\\n- Sophie: \\\"I've started working on the data preprocessing pipeline.\\\"\\n- Me: \\\"I...\",\"Type: conversations\\u003cbr\\u003eText: Action Items:\\n- [ ] Me: Set up initial model architecture (Due: March 22)\\n- [ ] Sophie: Complete dat...\",\"Type: conversations\\u003cbr\\u003eText: Decisions Made:\\n1. Using PyTorch for implementation\\n2. Weekly meetings on Thursdays\\n3. Using Discord...\",\"Type: conversations\\u003cbr\\u003eText: Follow-up Required:\\n- Share GitHub usernames\\n- Schedule next meeting\\n- Review each other's code by w...\",\"Type: conversations\\u003cbr\\u003eText: Additional Notes:\\nGreat team dynamic! Everyone brings different strengths:\\n- Sophie: Strong in mathe...\",\"Type: conversations\\u003cbr\\u003eText: Next Meeting:\\nDate: March 25, 2024\\nTime: 16:00...\",\"Type: conversations\\u003cbr\\u003eText: Meeting Date: March 10, 2024\\nTime: 09:00\\nLocation\\u002fPlatform: Zoom Video Call\\nAttendees: Dr. Hamid Moh...\",\"Type: conversations\\u003cbr\\u003eText: Meeting Topic: Career Update and Future Collaboration...\",\"Type: conversations\\u003cbr\\u003eText: Agenda Items:\\n1. Update on graduate studies\\n2. Potential remote collaboration\\n3. Industry insights...\",\"Type: conversations\\u003cbr\\u003eText: Key Discussion Points:\\n- Dr. Mohammadi: \\\"How's the transition from industry to academia going?\\\"\\n- Me...\",\"Type: conversations\\u003cbr\\u003eText: Action Items:\\n- [ ] Share my research interests and course projects\\n- [ ] Connect with Digikala's R&...\",\"Type: conversations\\u003cbr\\u003eText: Decisions Made:\\n1. Maintain quarterly catch-up calls\\n2. Possibility of remote summer project work\\n3....\",\"Type: conversations\\u003cbr\\u003eText: Follow-up Required:\\n- Send summary of current academic projects\\n- Share insights about Italian tech ...\",\"Type: conversations\\u003cbr\\u003eText: Additional Notes:\\nDr. Mohammadi offered valuable advice about bridging academic research with indust...\",\"Type: conversations\\u003cbr\\u003eText: Next Meeting:\\nDate: June 10, 2024\\nTime: 09:00...\",\"Type: conversations\\u003cbr\\u003eText: Personal Reflection Session\\nDate: March 25, 2024\\nTime: 22:00\\nLocation: My Apartment in Turin...\",\"Type: conversations\\u003cbr\\u003eText: Topic: Career and Personal Growth Review\\n\\nKey Questions and Answers:...\",\"Type: conversations\\u003cbr\\u003eText: Q: Am I on the right path with this career transition?\\nA: The move to pursue advanced studies feels ...\",\"Type: conversations\\u003cbr\\u003eText: Q: How am I adapting to the new environment?\\nA: Cultural adaptation is progressing well:\\n- Language:...\",\"Type: conversations\\u003cbr\\u003eText: Q: What are my current strengths and areas for improvement?\\nStrengths:\\n- Practical software engineer...\",\"Type: conversations\\u003cbr\\u003eText: Areas for Improvement:\\n- Need to deepen theoretical computer science knowledge\\n- Could be more activ...\",\"Type: conversations\\u003cbr\\u003eText: Future Goals Discussion:\\nShort-term (3-6 months):\\n- Excel in current semester courses\\n- Improve Ital...\",\"Type: conversations\\u003cbr\\u003eText: Long-term (1-2 years):\\n- Complete Master's with distinction\\n- Publish research paper\\n- Secure intern...\",\"Type: conversations\\u003cbr\\u003eText: Action Items:\\n- [ ] Create structured study plan for theoretical CS\\n- [ ] Join university sports clu...\",\"Type: conversations\\u003cbr\\u003eText: Follow-up:\\nSchedule next reflection session in one month\\nReview progress on action items weekly...\",\"Type: conversations\\u003cbr\\u003eText: Additional Thoughts:\\nThe transition from Digikala to academic life has been challenging but rewardin...\",\"Type: conversations\\u003cbr\\u003eText: Meeting Date: March 23, 2024\\nTime: 15:30\\nLocation: Caffè San Carlo, Turin\\nAttendees: Elena (classmat...\",\"Type: conversations\\u003cbr\\u003eText: Meeting Topic: Coffee and Study Break\\n\\nConversation Notes:...\",\"Type: conversations\\u003cbr\\u003eText: Initial Meeting:\\n- Casual discussion about distributed systems class\\n- Shared interest in AI and com...\",\"Type: conversations\\u003cbr\\u003eText: Key Topics:\\n1. Academic Interests\\n   - Her focus on AI ethics\\n   - My background in e-commerce syste...\",\"Type: conversations\\u003cbr\\u003eText: 2. Personal Interests\\n   - Both enjoy chess (she's in university club)\\n   - Similar taste in movies ...\",\"Type: conversations\\u003cbr\\u003eText: 3. Language Exchange\\n   - Offered to help with Italian practice\\n   - Interested in learning about Pe...\",\"Type: conversations\\u003cbr\\u003eText: Action Items:\\n- [ ] Share study materials for AI exam\\n- [ ] Plan chess club visit next week\\n- [ ] Ex...\",\"Type: conversations\\u003cbr\\u003eText: Future Plans Discussed:\\n1. Visit to Museum of Cinema\\n2. Join university chess club together\\n3. Study...\",\"Type: conversations\\u003cbr\\u003eText: Follow-up Notes:\\n- Great conversation flow\\n- Many shared interests discovered\\n- Natural connection b...\",\"Type: conversations\\u003cbr\\u003eText: Next Meeting:\\nDate: March 30, 2024\\nTime: 14:00\\nLocation: Museum of Cinema...\",\"Type: conversations\\u003cbr\\u003eText: Meeting Date: March 22, 2024\\nTime: 14:30\\nLocation\\u002fPlatform: Professor's Office, Department of Comput...\",\"Type: conversations\\u003cbr\\u003eText: Meeting Topic: Research Opportunities in AI and Distributed Systems...\",\"Type: conversations\\u003cbr\\u003eText: Agenda Items:\\n1. Discuss potential thesis topics\\n2. Review current research projects\\n3. Explore coll...\",\"Type: conversations\\u003cbr\\u003eText: Key Discussion Points:\\n- Prof. Rossi: \\\"Your industry experience with microservices at Digikala is qu...\",\"Type: conversations\\u003cbr\\u003eText: Action Items:\\n- [ ] Read recommended papers on distributed ML systems\\n- [ ] Prepare initial thesis p...\",\"Type: conversations\\u003cbr\\u003eText: Decisions Made:\\n1. Focus thesis on distributed training optimization for large language models\\n2. St...\",\"Type: conversations\\u003cbr\\u003eText: Follow-up Required:\\n- Send resume and project portfolio\\n- Review suggested research papers\\n- Connect...\",\"Type: conversations\\u003cbr\\u003eText: Additional Notes:\\nProfessor seemed particularly interested in my practical experience with scaling s...\",\"Type: conversations\\u003cbr\\u003eText: Next Meeting:\\nDate: April 5, 2024\\nTime: 15:00...\"],\"x\":[9.731649,11.181187,7.1895747,10.90869,3.3204532,6.514321,2.0917497,6.5446353,8.494014,6.025758,11.961341,9.670917,7.480124,10.90869,4.089335,6.4953003,3.2271626,2.2244859,11.178433,4.4858036,11.165298,9.667683,8.380253,11.405692,2.9833627,5.881744,-4.325755,-5.0810337,-1.9842824,-3.63724,-7.162467,-6.964727,-2.6098192,-5.460959,-8.067409,-4.517344,10.918418,-0.7958465,6.8201227,-2.1006656,-5.2301598,-3.5116901,-2.9861612,-2.2975726,-7.40381,-6.5271583,-6.5791473,-4.8152337,-7.709423,2.0493488,-0.85235417,2.1607955,-7.042074,-10.892866,0.19066156,-6.1776533,-4.7187457,-5.329945,-6.485075,-3.1839452,-10.86371,2.7760043,0.05094614,-0.76880425,-3.9452002,-3.5699167,-4.19432,-10.48348,2.0710285,-1.0956594,-3.6096272,-4.386637,-5.632076,-5.3832364,-3.4695396,-10.736768,-6.7570353,1.8826082,2.1739037,4.9067683,5.0681086,-3.270777,-3.6713207,6.140891,11.929797,7.2308564,4.4975085,-2.8179266,1.0238694,-2.4538913,11.25276,-1.615075,8.496678,4.881688,6.2972007,5.189722,1.8716348,1.4839665,-1.0055075,1.7858872,0.030956173,-0.60643905,-2.6608107,6.383645,3.7590616,2.1369617,1.2236754,-4.7158146,5.0708895,-4.4547687,-3.0639234,-0.4545654,-1.0484835,9.691897,1.5774678,4.1222506,-0.61658764,-5.185044,-4.2374234,-4.0241394,-1.7602905,-2.125812,-1.8420439,-0.5635329,5.7869854,4.5736647,-3.7906668,1.4639589,-3.8511484,-4.8625917,-3.8505807,2.7089381,-2.0032103,6.6975436],\"y\":[-7.0535445,-0.2650487,0.4349978,-7.593424,2.426537,-8.580885,-0.43366167,3.9717178,3.2824752,4.5495033,0.47086886,0.33080274,1.6403236,-7.593424,0.7087284,-8.315454,0.19104855,2.5985453,3.3478532,0.6339314,3.1185849,0.3398729,1.9362985,-7.1628265,-3.108638,-8.994683,-12.042011,-10.932872,-3.0208502,-12.516311,-7.1149573,-4.06629,-2.9726276,-6.0136356,-3.2855117,-12.731959,-6.8772154,-6.533021,-9.376113,-7.316958,-7.5495944,-7.7863493,-10.041758,-7.8548512,-7.984123,-4.5833006,-2.0309308,-6.263397,-2.9494953,-8.441099,-7.226306,-5.8476167,0.2995567,3.1191242,-5.263271,2.7179332,6.055517,2.3547235,1.46569,2.5415044,3.0474572,-5.072872,-0.4683381,-1.0682656,-0.18666533,-0.17935804,4.2632804,3.2803385,-7.1876764,-8.737759,-11.551843,-9.504833,-9.0027895,-6.8436756,-9.360604,2.140977,-10.532634,-3.6043072,-0.21781571,7.5265884,7.770217,-5.5133634,-2.9181144,-1.6672866,-0.8571664,-1.965519,-3.3414905,6.9999814,5.444878,5.591602,-1.5170195,4.3362308,-2.955927,5.267628,-3.3394604,-2.7567835,8.131478,6.9422984,9.060581,3.3814652,6.6562057,6.4488297,8.692819,-3.1228428,-4.8430505,8.791955,9.622294,-0.06311387,5.63786,2.6104424,0.3509033,8.205211,1.6867205,-2.3785222,2.1322324,-3.9443862,3.4471297,4.961289,8.46457,-2.8973832,-6.191463,1.9151301,-0.757459,3.6376607,-4.504079,-1.7288612,7.199345,6.025652,6.203761,6.828206,5.4028063,5.0902596,9.120881,-3.5419328],\"type\":\"scatter\"}],                        {\"template\":{\"data\":{\"histogram2dcontour\":[{\"type\":\"histogram2dcontour\",\"colorbar\":{\"outlinewidth\":0,\"ticks\":\"\"},\"colorscale\":[[0.0,\"#0d0887\"],[0.1111111111111111,\"#46039f\"],[0.2222222222222222,\"#7201a8\"],[0.3333333333333333,\"#9c179e\"],[0.4444444444444444,\"#bd3786\"],[0.5555555555555556,\"#d8576b\"],[0.6666666666666666,\"#ed7953\"],[0.7777777777777778,\"#fb9f3a\"],[0.8888888888888888,\"#fdca26\"],[1.0,\"#f0f921\"]]}],\"choropleth\":[{\"type\":\"choropleth\",\"colorbar\":{\"outlinewidth\":0,\"ticks\":\"\"}}],\"histogram2d\":[{\"type\":\"histogram2d\",\"colorbar\":{\"outlinewidth\":0,\"ticks\":\"\"},\"colorscale\":[[0.0,\"#0d0887\"],[0.1111111111111111,\"#46039f\"],[0.2222222222222222,\"#7201a8\"],[0.3333333333333333,\"#9c179e\"],[0.4444444444444444,\"#bd3786\"],[0.5555555555555556,\"#d8576b\"],[0.6666666666666666,\"#ed7953\"],[0.7777777777777778,\"#fb9f3a\"],[0.8888888888888888,\"#fdca26\"],[1.0,\"#f0f921\"]]}],\"heatmap\":[{\"type\":\"heatmap\",\"colorbar\":{\"outlinewidth\":0,\"ticks\":\"\"},\"colorscale\":[[0.0,\"#0d0887\"],[0.1111111111111111,\"#46039f\"],[0.2222222222222222,\"#7201a8\"],[0.3333333333333333,\"#9c179e\"],[0.4444444444444444,\"#bd3786\"],[0.5555555555555556,\"#d8576b\"],[0.6666666666666666,\"#ed7953\"],[0.7777777777777778,\"#fb9f3a\"],[0.8888888888888888,\"#fdca26\"],[1.0,\"#f0f921\"]]}],\"heatmapgl\":[{\"type\":\"heatmapgl\",\"colorbar\":{\"outlinewidth\":0,\"ticks\":\"\"},\"colorscale\":[[0.0,\"#0d0887\"],[0.1111111111111111,\"#46039f\"],[0.2222222222222222,\"#7201a8\"],[0.3333333333333333,\"#9c179e\"],[0.4444444444444444,\"#bd3786\"],[0.5555555555555556,\"#d8576b\"],[0.6666666666666666,\"#ed7953\"],[0.7777777777777778,\"#fb9f3a\"],[0.8888888888888888,\"#fdca26\"],[1.0,\"#f0f921\"]]}],\"contourcarpet\":[{\"type\":\"contourcarpet\",\"colorbar\":{\"outlinewidth\":0,\"ticks\":\"\"}}],\"contour\":[{\"type\":\"contour\",\"colorbar\":{\"outlinewidth\":0,\"ticks\":\"\"},\"colorscale\":[[0.0,\"#0d0887\"],[0.1111111111111111,\"#46039f\"],[0.2222222222222222,\"#7201a8\"],[0.3333333333333333,\"#9c179e\"],[0.4444444444444444,\"#bd3786\"],[0.5555555555555556,\"#d8576b\"],[0.6666666666666666,\"#ed7953\"],[0.7777777777777778,\"#fb9f3a\"],[0.8888888888888888,\"#fdca26\"],[1.0,\"#f0f921\"]]}],\"surface\":[{\"type\":\"surface\",\"colorbar\":{\"outlinewidth\":0,\"ticks\":\"\"},\"colorscale\":[[0.0,\"#0d0887\"],[0.1111111111111111,\"#46039f\"],[0.2222222222222222,\"#7201a8\"],[0.3333333333333333,\"#9c179e\"],[0.4444444444444444,\"#bd3786\"],[0.5555555555555556,\"#d8576b\"],[0.6666666666666666,\"#ed7953\"],[0.7777777777777778,\"#fb9f3a\"],[0.8888888888888888,\"#fdca26\"],[1.0,\"#f0f921\"]]}],\"mesh3d\":[{\"type\":\"mesh3d\",\"colorbar\":{\"outlinewidth\":0,\"ticks\":\"\"}}],\"scatter\":[{\"fillpattern\":{\"fillmode\":\"overlay\",\"size\":10,\"solidity\":0.2},\"type\":\"scatter\"}],\"parcoords\":[{\"type\":\"parcoords\",\"line\":{\"colorbar\":{\"outlinewidth\":0,\"ticks\":\"\"}}}],\"scatterpolargl\":[{\"type\":\"scatterpolargl\",\"marker\":{\"colorbar\":{\"outlinewidth\":0,\"ticks\":\"\"}}}],\"bar\":[{\"error_x\":{\"color\":\"#2a3f5f\"},\"error_y\":{\"color\":\"#2a3f5f\"},\"marker\":{\"line\":{\"color\":\"#E5ECF6\",\"width\":0.5},\"pattern\":{\"fillmode\":\"overlay\",\"size\":10,\"solidity\":0.2}},\"type\":\"bar\"}],\"scattergeo\":[{\"type\":\"scattergeo\",\"marker\":{\"colorbar\":{\"outlinewidth\":0,\"ticks\":\"\"}}}],\"scatterpolar\":[{\"type\":\"scatterpolar\",\"marker\":{\"colorbar\":{\"outlinewidth\":0,\"ticks\":\"\"}}}],\"histogram\":[{\"marker\":{\"pattern\":{\"fillmode\":\"overlay\",\"size\":10,\"solidity\":0.2}},\"type\":\"histogram\"}],\"scattergl\":[{\"type\":\"scattergl\",\"marker\":{\"colorbar\":{\"outlinewidth\":0,\"ticks\":\"\"}}}],\"scatter3d\":[{\"type\":\"scatter3d\",\"line\":{\"colorbar\":{\"outlinewidth\":0,\"ticks\":\"\"}},\"marker\":{\"colorbar\":{\"outlinewidth\":0,\"ticks\":\"\"}}}],\"scattermapbox\":[{\"type\":\"scattermapbox\",\"marker\":{\"colorbar\":{\"outlinewidth\":0,\"ticks\":\"\"}}}],\"scatterternary\":[{\"type\":\"scatterternary\",\"marker\":{\"colorbar\":{\"outlinewidth\":0,\"ticks\":\"\"}}}],\"scattercarpet\":[{\"type\":\"scattercarpet\",\"marker\":{\"colorbar\":{\"outlinewidth\":0,\"ticks\":\"\"}}}],\"carpet\":[{\"aaxis\":{\"endlinecolor\":\"#2a3f5f\",\"gridcolor\":\"white\",\"linecolor\":\"white\",\"minorgridcolor\":\"white\",\"startlinecolor\":\"#2a3f5f\"},\"baxis\":{\"endlinecolor\":\"#2a3f5f\",\"gridcolor\":\"white\",\"linecolor\":\"white\",\"minorgridcolor\":\"white\",\"startlinecolor\":\"#2a3f5f\"},\"type\":\"carpet\"}],\"table\":[{\"cells\":{\"fill\":{\"color\":\"#EBF0F8\"},\"line\":{\"color\":\"white\"}},\"header\":{\"fill\":{\"color\":\"#C8D4E3\"},\"line\":{\"color\":\"white\"}},\"type\":\"table\"}],\"barpolar\":[{\"marker\":{\"line\":{\"color\":\"#E5ECF6\",\"width\":0.5},\"pattern\":{\"fillmode\":\"overlay\",\"size\":10,\"solidity\":0.2}},\"type\":\"barpolar\"}],\"pie\":[{\"automargin\":true,\"type\":\"pie\"}]},\"layout\":{\"autotypenumbers\":\"strict\",\"colorway\":[\"#636efa\",\"#EF553B\",\"#00cc96\",\"#ab63fa\",\"#FFA15A\",\"#19d3f3\",\"#FF6692\",\"#B6E880\",\"#FF97FF\",\"#FECB52\"],\"font\":{\"color\":\"#2a3f5f\"},\"hovermode\":\"closest\",\"hoverlabel\":{\"align\":\"left\"},\"paper_bgcolor\":\"white\",\"plot_bgcolor\":\"#E5ECF6\",\"polar\":{\"bgcolor\":\"#E5ECF6\",\"angularaxis\":{\"gridcolor\":\"white\",\"linecolor\":\"white\",\"ticks\":\"\"},\"radialaxis\":{\"gridcolor\":\"white\",\"linecolor\":\"white\",\"ticks\":\"\"}},\"ternary\":{\"bgcolor\":\"#E5ECF6\",\"aaxis\":{\"gridcolor\":\"white\",\"linecolor\":\"white\",\"ticks\":\"\"},\"baxis\":{\"gridcolor\":\"white\",\"linecolor\":\"white\",\"ticks\":\"\"},\"caxis\":{\"gridcolor\":\"white\",\"linecolor\":\"white\",\"ticks\":\"\"}},\"coloraxis\":{\"colorbar\":{\"outlinewidth\":0,\"ticks\":\"\"}},\"colorscale\":{\"sequential\":[[0.0,\"#0d0887\"],[0.1111111111111111,\"#46039f\"],[0.2222222222222222,\"#7201a8\"],[0.3333333333333333,\"#9c179e\"],[0.4444444444444444,\"#bd3786\"],[0.5555555555555556,\"#d8576b\"],[0.6666666666666666,\"#ed7953\"],[0.7777777777777778,\"#fb9f3a\"],[0.8888888888888888,\"#fdca26\"],[1.0,\"#f0f921\"]],\"sequentialminus\":[[0.0,\"#0d0887\"],[0.1111111111111111,\"#46039f\"],[0.2222222222222222,\"#7201a8\"],[0.3333333333333333,\"#9c179e\"],[0.4444444444444444,\"#bd3786\"],[0.5555555555555556,\"#d8576b\"],[0.6666666666666666,\"#ed7953\"],[0.7777777777777778,\"#fb9f3a\"],[0.8888888888888888,\"#fdca26\"],[1.0,\"#f0f921\"]],\"diverging\":[[0,\"#8e0152\"],[0.1,\"#c51b7d\"],[0.2,\"#de77ae\"],[0.3,\"#f1b6da\"],[0.4,\"#fde0ef\"],[0.5,\"#f7f7f7\"],[0.6,\"#e6f5d0\"],[0.7,\"#b8e186\"],[0.8,\"#7fbc41\"],[0.9,\"#4d9221\"],[1,\"#276419\"]]},\"xaxis\":{\"gridcolor\":\"white\",\"linecolor\":\"white\",\"ticks\":\"\",\"title\":{\"standoff\":15},\"zerolinecolor\":\"white\",\"automargin\":true,\"zerolinewidth\":2},\"yaxis\":{\"gridcolor\":\"white\",\"linecolor\":\"white\",\"ticks\":\"\",\"title\":{\"standoff\":15},\"zerolinecolor\":\"white\",\"automargin\":true,\"zerolinewidth\":2},\"scene\":{\"xaxis\":{\"backgroundcolor\":\"#E5ECF6\",\"gridcolor\":\"white\",\"linecolor\":\"white\",\"showbackground\":true,\"ticks\":\"\",\"zerolinecolor\":\"white\",\"gridwidth\":2},\"yaxis\":{\"backgroundcolor\":\"#E5ECF6\",\"gridcolor\":\"white\",\"linecolor\":\"white\",\"showbackground\":true,\"ticks\":\"\",\"zerolinecolor\":\"white\",\"gridwidth\":2},\"zaxis\":{\"backgroundcolor\":\"#E5ECF6\",\"gridcolor\":\"white\",\"linecolor\":\"white\",\"showbackground\":true,\"ticks\":\"\",\"zerolinecolor\":\"white\",\"gridwidth\":2}},\"shapedefaults\":{\"line\":{\"color\":\"#2a3f5f\"}},\"annotationdefaults\":{\"arrowcolor\":\"#2a3f5f\",\"arrowhead\":0,\"arrowwidth\":1},\"geo\":{\"bgcolor\":\"white\",\"landcolor\":\"#E5ECF6\",\"subunitcolor\":\"white\",\"showland\":true,\"showlakes\":true,\"lakecolor\":\"white\"},\"title\":{\"x\":0.05},\"mapbox\":{\"style\":\"light\"}}},\"margin\":{\"r\":20,\"b\":10,\"l\":10,\"t\":40},\"title\":{\"text\":\"2D Chroma Vector Store Visualization\"},\"scene\":{\"xaxis\":{\"title\":{\"text\":\"x\"}},\"yaxis\":{\"title\":{\"text\":\"y\"}}},\"width\":800,\"height\":600},                        {\"responsive\": true}                    ).then(function(){\n",
              "                            \n",
              "var gd = document.getElementById('4a780f10-7093-44ed-95a3-e0f21fb83d2d');\n",
              "var x = new MutationObserver(function (mutations, observer) {{\n",
              "        var display = window.getComputedStyle(gd).display;\n",
              "        if (!display || display === 'none') {{\n",
              "            console.log([gd, 'removed!']);\n",
              "            Plotly.purge(gd);\n",
              "            observer.disconnect();\n",
              "        }}\n",
              "}});\n",
              "\n",
              "// Listen for the removal of the full notebook cells\n",
              "var notebookContainer = gd.closest('#notebook-container');\n",
              "if (notebookContainer) {{\n",
              "    x.observe(notebookContainer, {childList: true});\n",
              "}}\n",
              "\n",
              "// Listen for the clearing of the current output cell\n",
              "var outputEl = gd.closest('.output');\n",
              "if (outputEl) {{\n",
              "    x.observe(outputEl, {childList: true});\n",
              "}}\n",
              "\n",
              "                        })                };                            </script>        </div>\n",
              "</body>\n",
              "</html>"
            ]
          },
          "metadata": {},
          "output_type": "display_data"
        }
      ],
      "source": [
        "tsne = TSNE(n_components=2, random_state=42)\n",
        "reduced_vectors = tsne.fit_transform(vectors)\n",
        "\n",
        "fig = go.Figure(data=[go.Scatter(\n",
        "    x=reduced_vectors[:, 0],\n",
        "    y=reduced_vectors[:, 1],\n",
        "    mode='markers',\n",
        "    marker=dict(size=5, color=colors, opacity=0.8),\n",
        "    text=[f\"Type: {t}<br>Text: {d[:100]}...\" for t, d in zip(doc_types, documents)],\n",
        "    hoverinfo='text'\n",
        ")])\n",
        "\n",
        "fig.update_layout(\n",
        "    title='2D Chroma Vector Store Visualization',\n",
        "    scene=dict(xaxis_title='x',yaxis_title='y'),\n",
        "    width=800,\n",
        "    height=600,\n",
        "    margin=dict(r=20, b=10, l=10, t=40)\n",
        ")\n",
        "\n",
        "fig.show()"
      ]
    },
    {
      "cell_type": "code",
      "execution_count": null,
      "metadata": {
        "colab": {
          "base_uri": "https://localhost:8080/",
          "height": 717
        },
        "id": "wZs-mVdxYv5N",
        "outputId": "79d10e96-a44c-4eb6-d0a9-45db1155c00e"
      },
      "outputs": [
        {
          "data": {
            "text/html": [
              "<html>\n",
              "<head><meta charset=\"utf-8\" /></head>\n",
              "<body>\n",
              "    <div>            <script src=\"https://cdnjs.cloudflare.com/ajax/libs/mathjax/2.7.5/MathJax.js?config=TeX-AMS-MML_SVG\"></script><script type=\"text/javascript\">if (window.MathJax && window.MathJax.Hub && window.MathJax.Hub.Config) {window.MathJax.Hub.Config({SVG: {font: \"STIX-Web\"}});}</script>                <script type=\"text/javascript\">window.PlotlyConfig = {MathJaxConfig: 'local'};</script>\n",
              "        <script charset=\"utf-8\" src=\"https://cdn.plot.ly/plotly-2.35.2.min.js\"></script>                <div id=\"033cd32e-d424-40b8-8371-d912476b4180\" class=\"plotly-graph-div\" style=\"height:700px; width:900px;\"></div>            <script type=\"text/javascript\">                                    window.PLOTLYENV=window.PLOTLYENV || {};                                    if (document.getElementById(\"033cd32e-d424-40b8-8371-d912476b4180\")) {                    Plotly.newPlot(                        \"033cd32e-d424-40b8-8371-d912476b4180\",                        [{\"hoverinfo\":\"text\",\"marker\":{\"color\":[\"green\",\"green\",\"green\",\"green\",\"green\",\"green\",\"green\",\"green\",\"green\",\"green\",\"green\",\"green\",\"green\",\"green\",\"green\",\"green\",\"green\",\"green\",\"green\",\"green\",\"green\",\"green\",\"green\",\"green\",\"green\",\"green\",\"green\",\"green\",\"green\",\"green\",\"green\",\"green\",\"green\",\"green\",\"green\",\"green\",\"green\",\"green\",\"green\",\"green\",\"green\",\"green\",\"green\",\"green\",\"green\",\"green\",\"green\",\"green\",\"green\",\"green\",\"green\",\"orange\",\"orange\",\"orange\",\"orange\",\"orange\",\"orange\",\"orange\",\"orange\",\"orange\",\"orange\",\"orange\",\"orange\",\"orange\",\"orange\",\"orange\",\"orange\",\"orange\",\"orange\",\"orange\",\"orange\",\"orange\",\"orange\",\"orange\",\"orange\",\"orange\",\"orange\",\"red\",\"red\",\"red\",\"red\",\"red\",\"red\",\"blue\",\"blue\",\"blue\",\"blue\",\"blue\",\"blue\",\"blue\",\"blue\",\"blue\",\"blue\",\"blue\",\"blue\",\"blue\",\"blue\",\"blue\",\"blue\",\"blue\",\"blue\",\"blue\",\"blue\",\"blue\",\"blue\",\"blue\",\"blue\",\"blue\",\"blue\",\"blue\",\"blue\",\"blue\",\"blue\",\"blue\",\"blue\",\"blue\",\"blue\",\"blue\",\"blue\",\"blue\",\"blue\",\"blue\",\"blue\",\"blue\",\"blue\",\"blue\",\"blue\",\"blue\",\"blue\",\"blue\",\"blue\",\"blue\",\"blue\",\"blue\"],\"opacity\":0.8,\"size\":5},\"mode\":\"markers\",\"text\":[\"Type: emails\\u003cbr\\u003eText: Email Thread Documentation\\n\\nDate: \\nSubject:\\nFrom:\\nTo:\\nCC:\\n\\nEmail Content:\\n-------------------...\",\"Type: emails\\u003cbr\\u003eText: Key Points:\\n-\\n-\\n-\\n\\nAction Items:\\n- [ ]\\n- [ ]\\n\\nFollow-up Required:\\nYes\\u002fNo\\n\\nResponse Deadline:...\",\"Type: emails\\u003cbr\\u003eText: Additional Notes:...\",\"Type: emails\\u003cbr\\u003eText: Email Thread Documentation...\",\"Type: emails\\u003cbr\\u003eText: Date: 10\\u002f01\\u002f2024\\nSubject: Reference Letter Request - Graduate Studies\\nFrom: hr@digikala.com\\nTo: amir...\",\"Type: emails\\u003cbr\\u003eText: Email Content:\\n-------------------\\nDear AmirHossein,...\",\"Type: emails\\u003cbr\\u003eText: Thank you for your request for a reference letter for your graduate studies at Politecnico di Torino...\",\"Type: emails\\u003cbr\\u003eText: I have attached the signed reference letter highlighting your achievements:\\n- Lead developer on our ...\",\"Type: emails\\u003cbr\\u003eText: The letter has been signed by both your direct supervisor and our CTO....\",\"Type: emails\\u003cbr\\u003eText: Key Points:\\n- Reference letter completed and signed\\n- Detailed project contributions included\\n- Perf...\",\"Type: emails\\u003cbr\\u003eText: Action Items:\\n- [x] Download reference letter\\n- [ ] Confirm receipt\\n- [ ] Send thank you note...\",\"Type: emails\\u003cbr\\u003eText: Follow-up Required:\\nYes\\n\\nResponse Deadline:\\n12\\u002f01\\u002f2024...\",\"Type: emails\\u003cbr\\u003eText: Additional Notes:\\nPlease let us know if any modifications are needed for your application....\",\"Type: emails\\u003cbr\\u003eText: Email Thread Documentation...\",\"Type: emails\\u003cbr\\u003eText: Date: 15\\u002f01\\u002f2024\\nSubject: Master's Program Admission Decision - Computer Engineering\\nFrom: admission...\",\"Type: emails\\u003cbr\\u003eText: Email Content:\\n-------------------\\nDear Mr. AmirHossein Ranjbar,...\",\"Type: emails\\u003cbr\\u003eText: We are pleased to inform you that your application to the Master's Program in Computer Engineering a...\",\"Type: emails\\u003cbr\\u003eText: Your strong academic background and professional experience at Digikala have made you an excellent c...\",\"Type: emails\\u003cbr\\u003eText: Please complete the following steps to confirm your enrollment:\\n1. Accept the offer through the appl...\",\"Type: emails\\u003cbr\\u003eText: Key Points:\\n- Admission confirmed for Master's in Computer Engineering\\n- Program starts: February 20...\",\"Type: emails\\u003cbr\\u003eText: Action Items:\\n- [x] Accept offer through portal\\n- [ ] Complete enrollment fee payment\\n- [ ] Submit h...\",\"Type: emails\\u003cbr\\u003eText: Follow-up Required:\\nYes\\n\\nResponse Deadline:\\n25\\u002f01\\u002f2024...\",\"Type: emails\\u003cbr\\u003eText: Additional Notes:\\nRemember to bring original documents for verification during orientation week....\",\"Type: emails\\u003cbr\\u003eText: Email Thread Documentation...\",\"Type: emails\\u003cbr\\u003eText: Date: March 21, 2024\\nSubject: Weekend Adventure Planning 🎬🍝\\nFrom: sara.bianchi@example.com\\nTo: amirh...\",\"Type: emails\\u003cbr\\u003eText: Email Content:\\n-------------------\\nCaro Amir,...\",\"Type: emails\\u003cbr\\u003eText: Ready for our weekend cooking adventure? 😊 I still can't believe you tried to add pineapple to pasta...\",\"Type: emails\\u003cbr\\u003eText: I promise to teach you REAL Italian cooking this time - no crazy experiments! Though I must admit, y...\",\"Type: emails\\u003cbr\\u003eText: For Saturday:\\n1. Market shopping at Porta Palazzo\\n2. Cooking lesson at my place\\n3. Movie night - NO ...\",\"Type: emails\\u003cbr\\u003eText: Also, remember we have dinner with my parents next week. Please don't tell them about the pineapple ...\",\"Type: emails\\u003cbr\\u003eText: Ti voglio bene ❤️\\nSara...\",\"Type: emails\\u003cbr\\u003eText: P.S. I found your chess pieces hidden in my bookshelf. No more \\\"forgetting\\\" them to get extra visits...\",\"Type: emails\\u003cbr\\u003eText: Key Points:\\n- Saturday market + cooking date\\n- Movie night (no sci-fi)\\n- Chess pieces discovered\\n- D...\",\"Type: emails\\u003cbr\\u003eText: Action Items:\\n- [ ] Buy ingredients for authentic Italian cooking\\n- [ ] Return Sara's Italian gramma...\",\"Type: emails\\u003cbr\\u003eText: Follow-up Required:\\nYes\\n\\nResponse Deadline:\\nASAP (Before she finds more hidden chess pieces)...\",\"Type: emails\\u003cbr\\u003eText: Additional Notes:\\nMust remember: NO pineapple experiments this time!...\",\"Type: emails\\u003cbr\\u003eText: Email Thread Documentation...\",\"Type: emails\\u003cbr\\u003eText: Date: March 19, 2024\\nSubject: Persian-Italian Language Exchange Progress Report 📚\\nFrom: sara.bianchi...\",\"Type: emails\\u003cbr\\u003eText: Email Content:\\n-------------------\\nAzizam (Did I write it correctly? 😊),...\",\"Type: emails\\u003cbr\\u003eText: Just practicing my Persian! Here's our weekly language progress report:...\",\"Type: emails\\u003cbr\\u003eText: Your Italian Progress:\\n✅ Finally stopped saying \\\"gracie\\\" instead of \\\"grazie\\\"\\n❌ Still struggling with...\",\"Type: emails\\u003cbr\\u003eText: My Persian Progress:\\n✅ Can now count to 20 without mixing up numbers\\n❌ Still can't pronounce \\\"kh\\\" pr...\",\"Type: emails\\u003cbr\\u003eText: Funny Moments This Week:\\n1. You telling my friend \\\"sono annanasto\\\" (I am pineapple) instead of \\\"sono...\",\"Type: emails\\u003cbr\\u003eText: Next Week's Goals:\\nYou: Practice \\\"gli\\\" sound 100 times\\nMe: Learn more Persian endearments (other tha...\",\"Type: emails\\u003cbr\\u003eText: Ti amo & Dooset daram! ❤️\\n(See, I'm getting better!)\\n\\nSara...\",\"Type: emails\\u003cbr\\u003eText: P.S. Your chess pieces are now hidden with better Italian vocabulary cards - find them if you can! 😘...\",\"Type: emails\\u003cbr\\u003eText: Key Points:\\n- Language progress tracking\\n- Funny mistakes documentation\\n- Next week's learning goals...\",\"Type: emails\\u003cbr\\u003eText: Action Items:\\n- [ ] Practice formal Italian for family dinner\\n- [ ] Help Sara with Persian pronuncia...\",\"Type: emails\\u003cbr\\u003eText: Follow-up Required:\\nYes (especially about the chess pieces)...\",\"Type: emails\\u003cbr\\u003eText: Response Deadline:\\nBefore our next cooking disaster 😉...\",\"Type: emails\\u003cbr\\u003eText: Additional Notes:\\nMaybe we should start a blog: \\\"Love in Translation: Persian-Italian Edition\\\"...\",\"Type: journal\\u003cbr\\u003eText: Date: \\n\\nTopic: \\n\\nDear Journal,\\n\\n[Your daily reflection here]\\n\\nToday's Highlights:\\n-\\n-\\n-...\",\"Type: journal\\u003cbr\\u003eText: Challenges faced:\\n-\\n-\\n\\nLessons learned:\\n-\\n-\\n\\nGoals for tomorrow:\\n-\\n-...\",\"Type: journal\\u003cbr\\u003eText: Mood: \\nEnergy Level (1-10): \\nProductivity (1-10):...\",\"Type: journal\\u003cbr\\u003eText: Date: March 20, 2024\\n\\nTopic: Academic Progress and Language Learning\\n\\nDear Journal,...\",\"Type: journal\\u003cbr\\u003eText: Had an intensive day focusing on both academic work and language learning. My background in software...\",\"Type: journal\\u003cbr\\u003eText: Today's Highlights:\\n- Received positive feedback on my distributed systems project proposal\\n- Had my...\",\"Type: journal\\u003cbr\\u003eText: Challenges faced:\\n- Some concepts in theoretical computer science require extra study time\\n- Balanci...\",\"Type: journal\\u003cbr\\u003eText: Lessons learned:\\n- My practical experience helps in understanding complex systems\\n- Regular language...\",\"Type: journal\\u003cbr\\u003eText: Goals for tomorrow:\\n- Prepare presentation for the AI seminar\\n- Complete the week's Italian homework...\",\"Type: journal\\u003cbr\\u003eText: Mood: Focused\\nEnergy Level (1-10): 7\\nProductivity (1-10): 9...\",\"Type: journal\\u003cbr\\u003eText: Date: March 15, 2024\\n\\nTopic: First Weeks in Turin and Starting at Polito\\n\\nDear Journal,...\",\"Type: journal\\u003cbr\\u003eText: Today marks my first month in Turin, and what an incredible journey it's been so far. The transition...\",\"Type: journal\\u003cbr\\u003eText: Today's Highlights:\\n- Completed my first Computer Vision assignment with a good grade\\n- Had a produc...\",\"Type: journal\\u003cbr\\u003eText: Challenges faced:\\n- Still adjusting to speaking Italian in daily situations\\n- Managing time between ...\",\"Type: journal\\u003cbr\\u003eText: Lessons learned:\\n- The importance of creating a structured study schedule\\n- Need to dedicate more ti...\",\"Type: journal\\u003cbr\\u003eText: Goals for tomorrow:\\n- Start the distributed systems project\\n- Attend the Italian language exchange m...\",\"Type: journal\\u003cbr\\u003eText: Mood: Optimistic\\nEnergy Level (1-10): 8\\nProductivity (1-10): 7...\",\"Type: journal\\u003cbr\\u003eText: Date: March 24, 2024\\n\\nTopic: Cultural Clashes and Cooking Adventures with Sara\\n\\nDear Journal,...\",\"Type: journal\\u003cbr\\u003eText: Today was another episode of \\\"When Persian Meets Italian\\\" - our ongoing comedy series! 😂...\",\"Type: journal\\u003cbr\\u003eText: Today's Highlights:\\n- Attempted to make Sara's nonna's secret pasta recipe\\n- Successfully explained ...\",\"Type: journal\\u003cbr\\u003eText: Challenges faced:\\n- Sara caught me trying to sneak saffron into her family's traditional recipe\\n- St...\",\"Type: journal\\u003cbr\\u003eText: Lessons learned:\\n- Never argue with an Italian about pasta\\n- Hiding chess pieces around her apartmen...\",\"Type: journal\\u003cbr\\u003eText: Goals for tomorrow:\\n- Practice proper Italian pronunciation without Sara's giggles\\n- Find my chess p...\",\"Type: journal\\u003cbr\\u003eText: Funny Moments:\\n1. Sara's face when I suggested adding zereshk to risotto\\n2. Her attempt to pronounce...\",\"Type: journal\\u003cbr\\u003eText: Mood: Amused and In Love\\nEnergy Level (1-10): 9\\nProductivity (1-10): 6 (Too much laughing, not enoug...\",\"Type: journal\\u003cbr\\u003eText: P.S. Note to self: Stop using \\\"but in Iran we do it this way\\\" in cooking arguments - it's not workin...\",\"Type: documents\\u003cbr\\u003eText: Full Name: AmirHossein Ranjbar\\nDate of Birth: 31\\u002f07\\u002f2000\\nPlace of Birth: Tehran, Iran\\nCurrent Locati...\",\"Type: documents\\u003cbr\\u003eText: Education: \\n- Degree: Master's\\n- Institution: Politecnico di Torino (Polito)\\n- Year: 2024 - Present...\",\"Type: documents\\u003cbr\\u003eText: Work Experience:\\n1. Company: Digikala\\n   Position: Software Engineer\\n   Duration: 3Y 1M...\",\"Type: documents\\u003cbr\\u003eText: 2. Company: Agileful\\n   Position: Front-End Developer\\n   Duration: 1Y...\",\"Type: documents\\u003cbr\\u003eText: Languages:\\n- English\\n- German\\n- Italian...\",\"Type: documents\\u003cbr\\u003eText: Interests:\\n- Tennis\\n- Chess\\n- Reading Non-Fiction Books\\n- Watching Sci-Fi\\n- Cooking Italian Food (Ne...\",\"Type: conversations\\u003cbr\\u003eText: Meeting Date:\\nTime:\\nLocation\\u002fPlatform:\\nAttendees:\\n\\nMeeting Topic:\\n\\nAgenda Items:\\n1.\\n2.\\n3....\",\"Type: conversations\\u003cbr\\u003eText: Key Discussion Points:\\n-\\n-\\n-\\n\\nAction Items:\\n- [ ] \\n- [ ] \\n- [ ]\\n\\nDecisions Made:\\n1.\\n2....\",\"Type: conversations\\u003cbr\\u003eText: Follow-up Required:\\n-\\n-\\n\\nAdditional Notes:\\n\\nNext Meeting:\\nDate:\\nTime:...\",\"Type: conversations\\u003cbr\\u003eText: Meeting Date: March 18, 2024\\nTime: 16:00-18:30\\nLocation\\u002fPlatform: University Library Study Room 204\\n...\",\"Type: conversations\\u003cbr\\u003eText: Meeting Topic: Machine Learning Project Collaboration...\",\"Type: conversations\\u003cbr\\u003eText: Agenda Items:\\n1. Project task distribution\\n2. Timeline planning\\n3. Technical approach discussion...\",\"Type: conversations\\u003cbr\\u003eText: Key Discussion Points:\\n- Sophie: \\\"I've started working on the data preprocessing pipeline.\\\"\\n- Me: \\\"I...\",\"Type: conversations\\u003cbr\\u003eText: Action Items:\\n- [ ] Me: Set up initial model architecture (Due: March 22)\\n- [ ] Sophie: Complete dat...\",\"Type: conversations\\u003cbr\\u003eText: Decisions Made:\\n1. Using PyTorch for implementation\\n2. Weekly meetings on Thursdays\\n3. Using Discord...\",\"Type: conversations\\u003cbr\\u003eText: Follow-up Required:\\n- Share GitHub usernames\\n- Schedule next meeting\\n- Review each other's code by w...\",\"Type: conversations\\u003cbr\\u003eText: Additional Notes:\\nGreat team dynamic! Everyone brings different strengths:\\n- Sophie: Strong in mathe...\",\"Type: conversations\\u003cbr\\u003eText: Next Meeting:\\nDate: March 25, 2024\\nTime: 16:00...\",\"Type: conversations\\u003cbr\\u003eText: Meeting Date: March 10, 2024\\nTime: 09:00\\nLocation\\u002fPlatform: Zoom Video Call\\nAttendees: Dr. Hamid Moh...\",\"Type: conversations\\u003cbr\\u003eText: Meeting Topic: Career Update and Future Collaboration...\",\"Type: conversations\\u003cbr\\u003eText: Agenda Items:\\n1. Update on graduate studies\\n2. Potential remote collaboration\\n3. Industry insights...\",\"Type: conversations\\u003cbr\\u003eText: Key Discussion Points:\\n- Dr. Mohammadi: \\\"How's the transition from industry to academia going?\\\"\\n- Me...\",\"Type: conversations\\u003cbr\\u003eText: Action Items:\\n- [ ] Share my research interests and course projects\\n- [ ] Connect with Digikala's R&...\",\"Type: conversations\\u003cbr\\u003eText: Decisions Made:\\n1. Maintain quarterly catch-up calls\\n2. Possibility of remote summer project work\\n3....\",\"Type: conversations\\u003cbr\\u003eText: Follow-up Required:\\n- Send summary of current academic projects\\n- Share insights about Italian tech ...\",\"Type: conversations\\u003cbr\\u003eText: Additional Notes:\\nDr. Mohammadi offered valuable advice about bridging academic research with indust...\",\"Type: conversations\\u003cbr\\u003eText: Next Meeting:\\nDate: June 10, 2024\\nTime: 09:00...\",\"Type: conversations\\u003cbr\\u003eText: Personal Reflection Session\\nDate: March 25, 2024\\nTime: 22:00\\nLocation: My Apartment in Turin...\",\"Type: conversations\\u003cbr\\u003eText: Topic: Career and Personal Growth Review\\n\\nKey Questions and Answers:...\",\"Type: conversations\\u003cbr\\u003eText: Q: Am I on the right path with this career transition?\\nA: The move to pursue advanced studies feels ...\",\"Type: conversations\\u003cbr\\u003eText: Q: How am I adapting to the new environment?\\nA: Cultural adaptation is progressing well:\\n- Language:...\",\"Type: conversations\\u003cbr\\u003eText: Q: What are my current strengths and areas for improvement?\\nStrengths:\\n- Practical software engineer...\",\"Type: conversations\\u003cbr\\u003eText: Areas for Improvement:\\n- Need to deepen theoretical computer science knowledge\\n- Could be more activ...\",\"Type: conversations\\u003cbr\\u003eText: Future Goals Discussion:\\nShort-term (3-6 months):\\n- Excel in current semester courses\\n- Improve Ital...\",\"Type: conversations\\u003cbr\\u003eText: Long-term (1-2 years):\\n- Complete Master's with distinction\\n- Publish research paper\\n- Secure intern...\",\"Type: conversations\\u003cbr\\u003eText: Action Items:\\n- [ ] Create structured study plan for theoretical CS\\n- [ ] Join university sports clu...\",\"Type: conversations\\u003cbr\\u003eText: Follow-up:\\nSchedule next reflection session in one month\\nReview progress on action items weekly...\",\"Type: conversations\\u003cbr\\u003eText: Additional Thoughts:\\nThe transition from Digikala to academic life has been challenging but rewardin...\",\"Type: conversations\\u003cbr\\u003eText: Meeting Date: March 23, 2024\\nTime: 15:30\\nLocation: Caffè San Carlo, Turin\\nAttendees: Elena (classmat...\",\"Type: conversations\\u003cbr\\u003eText: Meeting Topic: Coffee and Study Break\\n\\nConversation Notes:...\",\"Type: conversations\\u003cbr\\u003eText: Initial Meeting:\\n- Casual discussion about distributed systems class\\n- Shared interest in AI and com...\",\"Type: conversations\\u003cbr\\u003eText: Key Topics:\\n1. Academic Interests\\n   - Her focus on AI ethics\\n   - My background in e-commerce syste...\",\"Type: conversations\\u003cbr\\u003eText: 2. Personal Interests\\n   - Both enjoy chess (she's in university club)\\n   - Similar taste in movies ...\",\"Type: conversations\\u003cbr\\u003eText: 3. Language Exchange\\n   - Offered to help with Italian practice\\n   - Interested in learning about Pe...\",\"Type: conversations\\u003cbr\\u003eText: Action Items:\\n- [ ] Share study materials for AI exam\\n- [ ] Plan chess club visit next week\\n- [ ] Ex...\",\"Type: conversations\\u003cbr\\u003eText: Future Plans Discussed:\\n1. Visit to Museum of Cinema\\n2. Join university chess club together\\n3. Study...\",\"Type: conversations\\u003cbr\\u003eText: Follow-up Notes:\\n- Great conversation flow\\n- Many shared interests discovered\\n- Natural connection b...\",\"Type: conversations\\u003cbr\\u003eText: Next Meeting:\\nDate: March 30, 2024\\nTime: 14:00\\nLocation: Museum of Cinema...\",\"Type: conversations\\u003cbr\\u003eText: Meeting Date: March 22, 2024\\nTime: 14:30\\nLocation\\u002fPlatform: Professor's Office, Department of Comput...\",\"Type: conversations\\u003cbr\\u003eText: Meeting Topic: Research Opportunities in AI and Distributed Systems...\",\"Type: conversations\\u003cbr\\u003eText: Agenda Items:\\n1. Discuss potential thesis topics\\n2. Review current research projects\\n3. Explore coll...\",\"Type: conversations\\u003cbr\\u003eText: Key Discussion Points:\\n- Prof. Rossi: \\\"Your industry experience with microservices at Digikala is qu...\",\"Type: conversations\\u003cbr\\u003eText: Action Items:\\n- [ ] Read recommended papers on distributed ML systems\\n- [ ] Prepare initial thesis p...\",\"Type: conversations\\u003cbr\\u003eText: Decisions Made:\\n1. Focus thesis on distributed training optimization for large language models\\n2. St...\",\"Type: conversations\\u003cbr\\u003eText: Follow-up Required:\\n- Send resume and project portfolio\\n- Review suggested research papers\\n- Connect...\",\"Type: conversations\\u003cbr\\u003eText: Additional Notes:\\nProfessor seemed particularly interested in my practical experience with scaling s...\",\"Type: conversations\\u003cbr\\u003eText: Next Meeting:\\nDate: April 5, 2024\\nTime: 15:00...\"],\"x\":[-30.021492,92.23548,-83.33222,-16.33978,16.443071,83.916916,72.03671,-33.251842,-20.465014,-45.988995,-48.132027,106.56122,-46.99849,-16.33978,71.0807,-3.6625822,80.06448,10.851302,-78.110214,90.96652,-58.842094,95.16138,-48.033386,-3.7950442,-103.99695,9.003068,38.660915,71.274605,63.9338,47.54461,-10.805122,24.380299,41.18505,13.623462,50.932644,53.049774,-25.163494,-23.996416,25.668106,-9.611473,-3.5719013,14.935986,25.280508,5.0712633,1.9749925,16.142876,36.637386,13.898836,32.862755,17.06954,-39.765892,-18.532646,18.558153,-20.338118,45.98619,17.152252,-6.837098,28.679586,-10.138537,31.22092,-25.204315,-44.191,19.176579,2.9590118,-92.086334,26.877075,14.299444,-32.866806,-3.5125577,-30.263304,48.747543,45.584656,29.02321,-4.5934286,33.682983,-3.3046913,9.2912,-108.062546,79.39413,55.13752,42.272488,-36.11234,41.749832,-88.05098,81.32099,64.70517,-84.93151,-30.222822,-64.12233,-16.071075,-50.34261,-43.404808,-59.741135,-15.382575,74.13703,-74.72549,-58.046528,-26.478336,12.731139,34.04684,-46.00516,5.663083,-15.717946,-52.623608,-66.87328,-68.62557,-22.233404,36.639584,-31.357275,34.97216,50.56819,31.293083,-32.73276,93.36481,11.127366,-83.85803,-64.682816,-1.9298294,-5.7097683,47.226772,-20.192093,50.589184,2.5236003,-69.02656,-68.61723,-53.650047,-27.287313,-8.666833,-8.564515,-24.153952,10.2746725,-79.78897,-5.180727,76.18911],\"y\":[93.11428,-7.670633,-35.747467,83.31092,9.109037,66.47953,34.341713,81.02278,65.27049,81.872856,41.166565,-6.023777,51.953403,83.31092,-18.613068,46.36125,6.798173,-16.748362,42.587074,-18.747314,34.92839,-22.679678,54.504124,76.66747,4.5927415,38.253555,67.59793,-66.17075,-49.972218,-95.55348,-84.14302,61.11372,-51.154205,-47.146385,75.69795,48.589108,63.979023,-71.46262,45.822643,-53.599754,-71.948456,-47.092533,-91.910736,-51.94474,-100.4123,82.56319,38.08516,-44.073605,69.85801,-86.96741,-54.847935,-64.154274,-3.9387984,6.0091143,10.896703,-19.100933,3.92865,2.4597094,0.81757015,20.063503,-16.394743,28.914705,7.5921326,-11.324028,8.582931,63.545048,11.206514,0.86023176,-77.29308,-82.0181,-94.85135,-58.40649,-69.29664,-58.37607,-69.00314,-5.696366,-84.06136,3.7615614,32.15136,-15.998579,-6.2089167,-55.949146,-31.582314,-24.443066,-13.049996,43.338516,31.132626,16.518536,-5.6696362,-39.016243,0.85070634,-45.88008,-71.415215,85.79409,27.888536,1.1780989,-0.023252137,-18.92321,26.23656,-17.28868,-36.583626,59.530224,13.156497,20.368536,10.50805,20.502842,1.336546,-47.299862,69.08174,28.911572,-6.3722463,47.058014,-12.735601,58.780136,-39.347233,15.508399,-44.25109,31.13596,37.675606,-18.443819,-36.47639,5.5014706,29.677877,-32.01845,46.683937,-17.370481,15.0629835,-168.9519,-9.144792,-13.777244,-19.605782,64.50301,8.326459,16.784996],\"z\":[-38.787605,-20.333931,-44.960587,-65.139404,101.155304,-36.63561,72.917694,13.707957,-8.4204035,32.959118,-73.162704,5.932098,10.124189,-65.139404,60.62533,-87.063835,58.018566,102.7208,-36.354584,48.885532,-39.961517,5.802518,-14.724378,-43.65146,34.67653,-63.689144,-52.60172,-21.875633,12.164598,6.0460663,-4.0570483,10.17549,19.68083,-5.778884,-0.6877595,-52.977245,-50.565075,-88.097984,-86.30589,-72.83769,-39.660557,-62.979702,-46.58428,-91.843895,-21.61122,6.9158854,-14.0610285,-29.78166,-16.212158,31.389875,-69.788315,65.232506,-58.24797,-108.95644,-47.125153,57.1359,11.612612,50.933228,-49.215725,8.546493,-104.039474,88.17171,-22.632015,-16.638823,-38.387886,43.94324,24.121569,-89.19482,44.61528,-62.237556,-24.081264,-33.394257,-9.195658,-19.108953,-52.65286,-91.249886,-79.07369,5.7608957,51.44451,-82.30679,-97.13694,-32.25912,0.73493713,55.31876,-42.43556,13.952519,46.499634,-0.058521707,-19.034111,34.351982,-50.592064,17.620453,34.040714,47.72345,-9.242962,45.483723,14.314869,72.561165,71.82874,91.1294,86.151535,73.845375,52.47717,54.23,88.81495,9.895123,104.75989,55.4722,53.6515,42.1242,26.57473,78.41792,-21.819809,13.473927,95.81798,68.01681,-5.4575233,18.755392,44.86928,-14.975137,-54.455994,80.154625,-16.951874,11.276049,69.23128,48.59616,26.364565,83.799065,36.42428,13.910896,22.904253,15.845688,72.88147,12.181947],\"type\":\"scatter3d\"}],                        {\"template\":{\"data\":{\"histogram2dcontour\":[{\"type\":\"histogram2dcontour\",\"colorbar\":{\"outlinewidth\":0,\"ticks\":\"\"},\"colorscale\":[[0.0,\"#0d0887\"],[0.1111111111111111,\"#46039f\"],[0.2222222222222222,\"#7201a8\"],[0.3333333333333333,\"#9c179e\"],[0.4444444444444444,\"#bd3786\"],[0.5555555555555556,\"#d8576b\"],[0.6666666666666666,\"#ed7953\"],[0.7777777777777778,\"#fb9f3a\"],[0.8888888888888888,\"#fdca26\"],[1.0,\"#f0f921\"]]}],\"choropleth\":[{\"type\":\"choropleth\",\"colorbar\":{\"outlinewidth\":0,\"ticks\":\"\"}}],\"histogram2d\":[{\"type\":\"histogram2d\",\"colorbar\":{\"outlinewidth\":0,\"ticks\":\"\"},\"colorscale\":[[0.0,\"#0d0887\"],[0.1111111111111111,\"#46039f\"],[0.2222222222222222,\"#7201a8\"],[0.3333333333333333,\"#9c179e\"],[0.4444444444444444,\"#bd3786\"],[0.5555555555555556,\"#d8576b\"],[0.6666666666666666,\"#ed7953\"],[0.7777777777777778,\"#fb9f3a\"],[0.8888888888888888,\"#fdca26\"],[1.0,\"#f0f921\"]]}],\"heatmap\":[{\"type\":\"heatmap\",\"colorbar\":{\"outlinewidth\":0,\"ticks\":\"\"},\"colorscale\":[[0.0,\"#0d0887\"],[0.1111111111111111,\"#46039f\"],[0.2222222222222222,\"#7201a8\"],[0.3333333333333333,\"#9c179e\"],[0.4444444444444444,\"#bd3786\"],[0.5555555555555556,\"#d8576b\"],[0.6666666666666666,\"#ed7953\"],[0.7777777777777778,\"#fb9f3a\"],[0.8888888888888888,\"#fdca26\"],[1.0,\"#f0f921\"]]}],\"heatmapgl\":[{\"type\":\"heatmapgl\",\"colorbar\":{\"outlinewidth\":0,\"ticks\":\"\"},\"colorscale\":[[0.0,\"#0d0887\"],[0.1111111111111111,\"#46039f\"],[0.2222222222222222,\"#7201a8\"],[0.3333333333333333,\"#9c179e\"],[0.4444444444444444,\"#bd3786\"],[0.5555555555555556,\"#d8576b\"],[0.6666666666666666,\"#ed7953\"],[0.7777777777777778,\"#fb9f3a\"],[0.8888888888888888,\"#fdca26\"],[1.0,\"#f0f921\"]]}],\"contourcarpet\":[{\"type\":\"contourcarpet\",\"colorbar\":{\"outlinewidth\":0,\"ticks\":\"\"}}],\"contour\":[{\"type\":\"contour\",\"colorbar\":{\"outlinewidth\":0,\"ticks\":\"\"},\"colorscale\":[[0.0,\"#0d0887\"],[0.1111111111111111,\"#46039f\"],[0.2222222222222222,\"#7201a8\"],[0.3333333333333333,\"#9c179e\"],[0.4444444444444444,\"#bd3786\"],[0.5555555555555556,\"#d8576b\"],[0.6666666666666666,\"#ed7953\"],[0.7777777777777778,\"#fb9f3a\"],[0.8888888888888888,\"#fdca26\"],[1.0,\"#f0f921\"]]}],\"surface\":[{\"type\":\"surface\",\"colorbar\":{\"outlinewidth\":0,\"ticks\":\"\"},\"colorscale\":[[0.0,\"#0d0887\"],[0.1111111111111111,\"#46039f\"],[0.2222222222222222,\"#7201a8\"],[0.3333333333333333,\"#9c179e\"],[0.4444444444444444,\"#bd3786\"],[0.5555555555555556,\"#d8576b\"],[0.6666666666666666,\"#ed7953\"],[0.7777777777777778,\"#fb9f3a\"],[0.8888888888888888,\"#fdca26\"],[1.0,\"#f0f921\"]]}],\"mesh3d\":[{\"type\":\"mesh3d\",\"colorbar\":{\"outlinewidth\":0,\"ticks\":\"\"}}],\"scatter\":[{\"fillpattern\":{\"fillmode\":\"overlay\",\"size\":10,\"solidity\":0.2},\"type\":\"scatter\"}],\"parcoords\":[{\"type\":\"parcoords\",\"line\":{\"colorbar\":{\"outlinewidth\":0,\"ticks\":\"\"}}}],\"scatterpolargl\":[{\"type\":\"scatterpolargl\",\"marker\":{\"colorbar\":{\"outlinewidth\":0,\"ticks\":\"\"}}}],\"bar\":[{\"error_x\":{\"color\":\"#2a3f5f\"},\"error_y\":{\"color\":\"#2a3f5f\"},\"marker\":{\"line\":{\"color\":\"#E5ECF6\",\"width\":0.5},\"pattern\":{\"fillmode\":\"overlay\",\"size\":10,\"solidity\":0.2}},\"type\":\"bar\"}],\"scattergeo\":[{\"type\":\"scattergeo\",\"marker\":{\"colorbar\":{\"outlinewidth\":0,\"ticks\":\"\"}}}],\"scatterpolar\":[{\"type\":\"scatterpolar\",\"marker\":{\"colorbar\":{\"outlinewidth\":0,\"ticks\":\"\"}}}],\"histogram\":[{\"marker\":{\"pattern\":{\"fillmode\":\"overlay\",\"size\":10,\"solidity\":0.2}},\"type\":\"histogram\"}],\"scattergl\":[{\"type\":\"scattergl\",\"marker\":{\"colorbar\":{\"outlinewidth\":0,\"ticks\":\"\"}}}],\"scatter3d\":[{\"type\":\"scatter3d\",\"line\":{\"colorbar\":{\"outlinewidth\":0,\"ticks\":\"\"}},\"marker\":{\"colorbar\":{\"outlinewidth\":0,\"ticks\":\"\"}}}],\"scattermapbox\":[{\"type\":\"scattermapbox\",\"marker\":{\"colorbar\":{\"outlinewidth\":0,\"ticks\":\"\"}}}],\"scatterternary\":[{\"type\":\"scatterternary\",\"marker\":{\"colorbar\":{\"outlinewidth\":0,\"ticks\":\"\"}}}],\"scattercarpet\":[{\"type\":\"scattercarpet\",\"marker\":{\"colorbar\":{\"outlinewidth\":0,\"ticks\":\"\"}}}],\"carpet\":[{\"aaxis\":{\"endlinecolor\":\"#2a3f5f\",\"gridcolor\":\"white\",\"linecolor\":\"white\",\"minorgridcolor\":\"white\",\"startlinecolor\":\"#2a3f5f\"},\"baxis\":{\"endlinecolor\":\"#2a3f5f\",\"gridcolor\":\"white\",\"linecolor\":\"white\",\"minorgridcolor\":\"white\",\"startlinecolor\":\"#2a3f5f\"},\"type\":\"carpet\"}],\"table\":[{\"cells\":{\"fill\":{\"color\":\"#EBF0F8\"},\"line\":{\"color\":\"white\"}},\"header\":{\"fill\":{\"color\":\"#C8D4E3\"},\"line\":{\"color\":\"white\"}},\"type\":\"table\"}],\"barpolar\":[{\"marker\":{\"line\":{\"color\":\"#E5ECF6\",\"width\":0.5},\"pattern\":{\"fillmode\":\"overlay\",\"size\":10,\"solidity\":0.2}},\"type\":\"barpolar\"}],\"pie\":[{\"automargin\":true,\"type\":\"pie\"}]},\"layout\":{\"autotypenumbers\":\"strict\",\"colorway\":[\"#636efa\",\"#EF553B\",\"#00cc96\",\"#ab63fa\",\"#FFA15A\",\"#19d3f3\",\"#FF6692\",\"#B6E880\",\"#FF97FF\",\"#FECB52\"],\"font\":{\"color\":\"#2a3f5f\"},\"hovermode\":\"closest\",\"hoverlabel\":{\"align\":\"left\"},\"paper_bgcolor\":\"white\",\"plot_bgcolor\":\"#E5ECF6\",\"polar\":{\"bgcolor\":\"#E5ECF6\",\"angularaxis\":{\"gridcolor\":\"white\",\"linecolor\":\"white\",\"ticks\":\"\"},\"radialaxis\":{\"gridcolor\":\"white\",\"linecolor\":\"white\",\"ticks\":\"\"}},\"ternary\":{\"bgcolor\":\"#E5ECF6\",\"aaxis\":{\"gridcolor\":\"white\",\"linecolor\":\"white\",\"ticks\":\"\"},\"baxis\":{\"gridcolor\":\"white\",\"linecolor\":\"white\",\"ticks\":\"\"},\"caxis\":{\"gridcolor\":\"white\",\"linecolor\":\"white\",\"ticks\":\"\"}},\"coloraxis\":{\"colorbar\":{\"outlinewidth\":0,\"ticks\":\"\"}},\"colorscale\":{\"sequential\":[[0.0,\"#0d0887\"],[0.1111111111111111,\"#46039f\"],[0.2222222222222222,\"#7201a8\"],[0.3333333333333333,\"#9c179e\"],[0.4444444444444444,\"#bd3786\"],[0.5555555555555556,\"#d8576b\"],[0.6666666666666666,\"#ed7953\"],[0.7777777777777778,\"#fb9f3a\"],[0.8888888888888888,\"#fdca26\"],[1.0,\"#f0f921\"]],\"sequentialminus\":[[0.0,\"#0d0887\"],[0.1111111111111111,\"#46039f\"],[0.2222222222222222,\"#7201a8\"],[0.3333333333333333,\"#9c179e\"],[0.4444444444444444,\"#bd3786\"],[0.5555555555555556,\"#d8576b\"],[0.6666666666666666,\"#ed7953\"],[0.7777777777777778,\"#fb9f3a\"],[0.8888888888888888,\"#fdca26\"],[1.0,\"#f0f921\"]],\"diverging\":[[0,\"#8e0152\"],[0.1,\"#c51b7d\"],[0.2,\"#de77ae\"],[0.3,\"#f1b6da\"],[0.4,\"#fde0ef\"],[0.5,\"#f7f7f7\"],[0.6,\"#e6f5d0\"],[0.7,\"#b8e186\"],[0.8,\"#7fbc41\"],[0.9,\"#4d9221\"],[1,\"#276419\"]]},\"xaxis\":{\"gridcolor\":\"white\",\"linecolor\":\"white\",\"ticks\":\"\",\"title\":{\"standoff\":15},\"zerolinecolor\":\"white\",\"automargin\":true,\"zerolinewidth\":2},\"yaxis\":{\"gridcolor\":\"white\",\"linecolor\":\"white\",\"ticks\":\"\",\"title\":{\"standoff\":15},\"zerolinecolor\":\"white\",\"automargin\":true,\"zerolinewidth\":2},\"scene\":{\"xaxis\":{\"backgroundcolor\":\"#E5ECF6\",\"gridcolor\":\"white\",\"linecolor\":\"white\",\"showbackground\":true,\"ticks\":\"\",\"zerolinecolor\":\"white\",\"gridwidth\":2},\"yaxis\":{\"backgroundcolor\":\"#E5ECF6\",\"gridcolor\":\"white\",\"linecolor\":\"white\",\"showbackground\":true,\"ticks\":\"\",\"zerolinecolor\":\"white\",\"gridwidth\":2},\"zaxis\":{\"backgroundcolor\":\"#E5ECF6\",\"gridcolor\":\"white\",\"linecolor\":\"white\",\"showbackground\":true,\"ticks\":\"\",\"zerolinecolor\":\"white\",\"gridwidth\":2}},\"shapedefaults\":{\"line\":{\"color\":\"#2a3f5f\"}},\"annotationdefaults\":{\"arrowcolor\":\"#2a3f5f\",\"arrowhead\":0,\"arrowwidth\":1},\"geo\":{\"bgcolor\":\"white\",\"landcolor\":\"#E5ECF6\",\"subunitcolor\":\"white\",\"showland\":true,\"showlakes\":true,\"lakecolor\":\"white\"},\"title\":{\"x\":0.05},\"mapbox\":{\"style\":\"light\"}}},\"margin\":{\"r\":20,\"b\":10,\"l\":10,\"t\":40},\"title\":{\"text\":\"3D Chroma Vector Store Visualization\"},\"scene\":{\"xaxis\":{\"title\":{\"text\":\"x\"}},\"yaxis\":{\"title\":{\"text\":\"y\"}},\"zaxis\":{\"title\":{\"text\":\"z\"}}},\"width\":900,\"height\":700},                        {\"responsive\": true}                    ).then(function(){\n",
              "                            \n",
              "var gd = document.getElementById('033cd32e-d424-40b8-8371-d912476b4180');\n",
              "var x = new MutationObserver(function (mutations, observer) {{\n",
              "        var display = window.getComputedStyle(gd).display;\n",
              "        if (!display || display === 'none') {{\n",
              "            console.log([gd, 'removed!']);\n",
              "            Plotly.purge(gd);\n",
              "            observer.disconnect();\n",
              "        }}\n",
              "}});\n",
              "\n",
              "// Listen for the removal of the full notebook cells\n",
              "var notebookContainer = gd.closest('#notebook-container');\n",
              "if (notebookContainer) {{\n",
              "    x.observe(notebookContainer, {childList: true});\n",
              "}}\n",
              "\n",
              "// Listen for the clearing of the current output cell\n",
              "var outputEl = gd.closest('.output');\n",
              "if (outputEl) {{\n",
              "    x.observe(outputEl, {childList: true});\n",
              "}}\n",
              "\n",
              "                        })                };                            </script>        </div>\n",
              "</body>\n",
              "</html>"
            ]
          },
          "metadata": {},
          "output_type": "display_data"
        }
      ],
      "source": [
        "tsne = TSNE(n_components=3, random_state=42)\n",
        "reduced_vectors = tsne.fit_transform(vectors)\n",
        "\n",
        "fig = go.Figure(data=[go.Scatter3d(\n",
        "    x=reduced_vectors[:, 0],\n",
        "    y=reduced_vectors[:, 1],\n",
        "    z=reduced_vectors[:, 2],\n",
        "    mode='markers',\n",
        "    marker=dict(size=5, color=colors, opacity=0.8),\n",
        "    text=[f\"Type: {t}<br>Text: {d[:100]}...\" for t, d in zip(doc_types, documents)],\n",
        "    hoverinfo='text'\n",
        ")])\n",
        "\n",
        "fig.update_layout(\n",
        "    title='3D Chroma Vector Store Visualization',\n",
        "    scene=dict(xaxis_title='x', yaxis_title='y', zaxis_title='z'),\n",
        "    width=900,\n",
        "    height=700,\n",
        "    margin=dict(r=20, b=10, l=10, t=40)\n",
        ")\n",
        "\n",
        "fig.show()"
      ]
    },
    {
      "cell_type": "code",
      "execution_count": null,
      "metadata": {
        "colab": {
          "base_uri": "https://localhost:8080/"
        },
        "id": "IPb4M0cCZAt2",
        "outputId": "9a208a28-74d8-4253-cdcf-10df14ebcadd"
      },
      "outputs": [
        {
          "name": "stderr",
          "output_type": "stream",
          "text": [
            "Device set to use cpu\n"
          ]
        }
      ],
      "source": [
        "# llm = ChatOpenAI(\n",
        "#     temperature=0.7,\n",
        "#     model_name=MODEL,\n",
        "#     base_url='https://b3c2-109-54-44-59.ngrok-free.app/v1',\n",
        "#     api_key='ollama',\n",
        "#     default_headers={\n",
        "#         \"ngrok-skip-browser-warning\": 'ItsTrue',\n",
        "#         'User-Agent': 'Mac'\n",
        "#     }\n",
        "#     )\n",
        "from langchain_core.callbacks import StdOutCallbackHandler\n",
        "\n",
        "llm = HuggingFacePipeline(pipeline=pipeline(\"text-generation\", model=\"EleutherAI/gpt-neo-1.3B\", max_new_tokens=20))\n",
        "\n",
        "memory = ConversationBufferMemory(memory_key='chat_history', return_messages=True)\n",
        "\n",
        "retriever = vectorstore.as_retriever(search_kwargs={\"k\": 25})\n",
        "\n",
        "conversation_chain = ConversationalRetrievalChain.from_llm(llm=llm, retriever=retriever, memory=memory, callbacks=[StdOutCallbackHandler()])"
      ]
    },
    {
      "cell_type": "code",
      "execution_count": null,
      "metadata": {
        "colab": {
          "background_save": true,
          "base_uri": "https://localhost:8080/"
        },
        "id": "BJoqo3WdZHPR",
        "outputId": "0c9390d0-340d-432c-d8f1-45e4d51d87be"
      },
      "outputs": [],
      "source": [
        "query = \"What's my name?\"\n",
        "result = conversation_chain.invoke({\"question\":query})\n",
        "print(result[\"answer\"])"
      ]
    },
    {
      "cell_type": "code",
      "execution_count": null,
      "metadata": {
        "id": "i3_W71umk64n"
      },
      "outputs": [],
      "source": [
        "def chat(question, history):\n",
        "    result = conversation_chain.invoke({\"question\": question})\n",
        "    return result[\"answer\"]"
      ]
    },
    {
      "cell_type": "code",
      "execution_count": null,
      "metadata": {
        "colab": {
          "base_uri": "https://localhost:8080/",
          "height": 643
        },
        "id": "A5W_yj54lAPX",
        "outputId": "fc422ce4-5244-46d9-c1ad-9f32873267f1"
      },
      "outputs": [
        {
          "name": "stdout",
          "output_type": "stream",
          "text": [
            "Running Gradio in a Colab notebook requires sharing enabled. Automatically setting `share=True` (you can turn this off by setting `share=False` in `launch()` explicitly).\n",
            "\n",
            "Colab notebook detected. To show errors in colab notebook, set debug=True in launch()\n",
            "* Running on public URL: https://b91adb9538cd6377c0.gradio.live\n",
            "\n",
            "This share link expires in 72 hours. For free permanent hosting and GPU upgrades, run `gradio deploy` from the terminal in the working directory to deploy to Hugging Face Spaces (https://huggingface.co/spaces)\n"
          ]
        },
        {
          "data": {
            "text/html": [
              "<div><iframe src=\"https://b91adb9538cd6377c0.gradio.live\" width=\"100%\" height=\"500\" allow=\"autoplay; camera; microphone; clipboard-read; clipboard-write;\" frameborder=\"0\" allowfullscreen></iframe></div>"
            ],
            "text/plain": [
              "<IPython.core.display.HTML object>"
            ]
          },
          "metadata": {},
          "output_type": "display_data"
        }
      ],
      "source": [
        "view = gr.ChatInterface(chat, type=\"messages\").launch(inbrowser=True)"
      ]
    }
  ],
  "metadata": {
    "colab": {
      "provenance": []
    },
    "kernelspec": {
      "display_name": "llm",
      "language": "python",
      "name": "python3"
    },
    "language_info": {
      "name": "python",
      "version": "3.13.2"
    }
  },
  "nbformat": 4,
  "nbformat_minor": 0
}
