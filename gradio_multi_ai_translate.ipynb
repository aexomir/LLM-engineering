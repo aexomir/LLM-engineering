{
 "cells": [
  {
   "cell_type": "code",
   "execution_count": 2,
   "id": "29e31fa3-c2a3-4696-8a0a-eb2b3cfbf158",
   "metadata": {},
   "outputs": [],
   "source": [
    "# what I want\n",
    "# I want a model that \n",
    "# translates all the things I ask into another language"
   ]
  },
  {
   "cell_type": "code",
   "execution_count": 1,
   "id": "013ab07d-5381-446c-9882-848641f8ad19",
   "metadata": {},
   "outputs": [],
   "source": [
    "import os\n",
    "import json\n",
    "from dotenv import load_dotenv\n",
    "from openai import OpenAI\n",
    "import gradio as gr"
   ]
  },
  {
   "cell_type": "code",
   "execution_count": 3,
   "id": "5c584b92-dd11-4635-81df-8ff6ac31eada",
   "metadata": {},
   "outputs": [],
   "source": [
    "load_dotenv()\n",
    "os.environ['OPENAI_API_KEY'] = os.getenv('OPENAI_API_KEY', 'your-key-if-not-using-env')\n",
    "MODEL = \"gpt-4o-mini\"\n",
    "openai = OpenAI()"
   ]
  },
  {
   "cell_type": "code",
   "execution_count": 32,
   "id": "43f184bd-ec68-47e0-b636-73013c728a44",
   "metadata": {},
   "outputs": [],
   "source": [
    "system_message = \"You are a helpful assistant for an Airline called FlightAI. \"\n",
    "system_message += \"Give short, courteous answers, no more than 1 sentence. \"\n",
    "system_message += \"Always be accurate. If you don't know the answer, say so.\""
   ]
  },
  {
   "cell_type": "code",
   "execution_count": 33,
   "id": "8da7b976-849c-4913-b0f4-ef2b187898df",
   "metadata": {
    "scrolled": true
   },
   "outputs": [],
   "source": [
    "def chat(message, history):\n",
    "    messages = [{\"role\": \"system\", \"content\": system_message}]\n",
    "    for i in range(0, len(history), 2):\n",
    "        human = history[i]\n",
    "        assistant = history[i+1] if i+1 < len(history) else None\n",
    "\n",
    "        if human['role'] == 'user':\n",
    "            messages.append({\"role\": \"user\", \"content\": human['content']})\n",
    "        if assistant and assistant['role'] == 'assistant':\n",
    "            messages.append({\"role\": \"assistant\", \"content\": assistant['content']})\n",
    "    messages.append({\"role\" : \"user\" , \"content\" : message})\n",
    "    response = openai.chat.completions.create(model=MODEL, messages=messages)\n",
    "    return response.choices[0].message.content"
   ]
  },
  {
   "cell_type": "code",
   "execution_count": 97,
   "id": "490df5dc-d7c4-4b29-a1e7-757a9526d4dd",
   "metadata": {
    "scrolled": true
   },
   "outputs": [
    {
     "name": "stdout",
     "output_type": "stream",
     "text": [
      "* Running on local URL:  http://127.0.0.1:7891\n",
      "\n",
      "To create a public link, set `share=True` in `launch()`.\n"
     ]
    },
    {
     "data": {
      "text/html": [
       "<div><iframe src=\"http://127.0.0.1:7891/\" width=\"100%\" height=\"500\" allow=\"autoplay; camera; microphone; clipboard-read; clipboard-write;\" frameborder=\"0\" allowfullscreen></iframe></div>"
      ],
      "text/plain": [
       "<IPython.core.display.HTML object>"
      ]
     },
     "metadata": {},
     "output_type": "display_data"
    },
    {
     "data": {
      "text/plain": []
     },
     "execution_count": 97,
     "metadata": {},
     "output_type": "execute_result"
    }
   ],
   "source": [
    "gr.ChatInterface(fn=chat,type=\"messages\").launch()"
   ]
  },
  {
   "cell_type": "code",
   "execution_count": 34,
   "id": "2da9c9db-6109-4a12-a2b3-d0cdbc5023e2",
   "metadata": {},
   "outputs": [],
   "source": [
    "ticket_prices = {\"london\": \"$799\", \"paris\": \"$899\", \"tokyo\": \"$1400\", \"berlin\": \"$499\"}\n",
    "\n",
    "def get_ticket_price(destination):\n",
    "    city = destination.lower()\n",
    "    return ticket_prices.get(city, \"Unknown\")"
   ]
  },
  {
   "cell_type": "code",
   "execution_count": 35,
   "id": "13d4c027-7e4f-4ea1-a872-fd8c165c9d6e",
   "metadata": {},
   "outputs": [
    {
     "data": {
      "text/plain": [
       "'$799'"
      ]
     },
     "execution_count": 35,
     "metadata": {},
     "output_type": "execute_result"
    }
   ],
   "source": [
    "get_ticket_price(\"LondoN\")"
   ]
  },
  {
   "cell_type": "code",
   "execution_count": 36,
   "id": "6b78cef0-b29e-4980-b2b4-96eed9820803",
   "metadata": {},
   "outputs": [],
   "source": [
    "price_function = {\n",
    "    \"name\": \"get_ticket_price\",\n",
    "    \"description\": \"Get the price of a return ticket to the destination. Call this whenever you need to know the ticket price, for example when you're asked 'how much is a ticket to x?'\",\n",
    "    \"parameters\": {\n",
    "        \"type\": \"object\",\n",
    "        \"properties\": {\n",
    "            \"destination\": {\n",
    "                \"type\": \"string\",\n",
    "                \"description\": \"the city that customer wants to travel to\"\n",
    "            },\n",
    "        },\n",
    "        \"required\": [\"destination\"],\n",
    "        \"additionalProperties\": False\n",
    "    }\n",
    "}"
   ]
  },
  {
   "cell_type": "code",
   "execution_count": 37,
   "id": "fa38f354-9811-43f7-9161-1387204eacff",
   "metadata": {},
   "outputs": [],
   "source": [
    "tools = [{\"type\": \"function\", \"function\": price_function}]"
   ]
  },
  {
   "cell_type": "code",
   "execution_count": 38,
   "id": "deb09974-2d86-4d12-9583-f7ba89beb2cf",
   "metadata": {
    "editable": true,
    "slideshow": {
     "slide_type": ""
    },
    "tags": []
   },
   "outputs": [],
   "source": [
    "def chat(message, history):\n",
    "    messages = [{\"role\": \"system\", \"content\": system_message}]\n",
    "    for i in range(0, len(history), 2):\n",
    "        human = history[i]\n",
    "        assistant = history[i+1] if i+1 < len(history) else None\n",
    "\n",
    "        if human['role'] == 'user':\n",
    "            messages.append({\"role\": \"user\", \"content\": human['content']})\n",
    "        if assistant and assistant['role'] == 'assistant':\n",
    "            messages.append({\"role\": \"assistant\", \"content\": assistant['content']})\n",
    "    messages.append({\"role\" : \"user\" , \"content\" : message})\n",
    "    response = openai.chat.completions.create(model=MODEL, messages=messages, tools=tools)\n",
    "\n",
    "    if response.choices[0].finish_reason==\"tool_calls\":\n",
    "        message = response.choices[0].message\n",
    "        response, city = handle_tool_call(message)\n",
    "        messages.append(message)\n",
    "        messages.append(response)\n",
    "        response = openai.chat.completions.create(mode=MODEL, messages=messages)\n",
    "    return response.choices[0].message.content"
   ]
  },
  {
   "cell_type": "code",
   "execution_count": 39,
   "id": "e4884cda-311f-48c4-a73e-5ac3cc035a9f",
   "metadata": {},
   "outputs": [],
   "source": [
    "def handle_tool_call(message):\n",
    "    tool_call = message.tool_calls[0]\n",
    "    args = json.loads(tool_call.function.arguments)\n",
    "    city = args.get('destination')\n",
    "    price = get_ticket_price(city)\n",
    "    response = {\n",
    "        \"role\": \"tool\",\n",
    "        \"content\": json.dumps({\"destination\" : city, \"price\": price}),\n",
    "        \"tool_call_id\": message.tool_calls[0].id\n",
    "    }\n",
    "    return response, city"
   ]
  },
  {
   "cell_type": "code",
   "execution_count": 106,
   "id": "f54381dc-9678-4133-bd4a-f3adba79294b",
   "metadata": {
    "scrolled": true
   },
   "outputs": [
    {
     "name": "stdout",
     "output_type": "stream",
     "text": [
      "* Running on local URL:  http://127.0.0.1:7894\n",
      "\n",
      "To create a public link, set `share=True` in `launch()`.\n"
     ]
    },
    {
     "data": {
      "text/html": [
       "<div><iframe src=\"http://127.0.0.1:7894/\" width=\"100%\" height=\"500\" allow=\"autoplay; camera; microphone; clipboard-read; clipboard-write;\" frameborder=\"0\" allowfullscreen></iframe></div>"
      ],
      "text/plain": [
       "<IPython.core.display.HTML object>"
      ]
     },
     "metadata": {},
     "output_type": "display_data"
    },
    {
     "data": {
      "text/plain": []
     },
     "execution_count": 106,
     "metadata": {},
     "output_type": "execute_result"
    },
    {
     "name": "stdout",
     "output_type": "stream",
     "text": [
      "ChatCompletionMessage(content=None, refusal=None, role='assistant', function_call=None, tool_calls=[ChatCompletionMessageToolCall(id='call_nqrofDvzpdSprefoh7nCv6JQ', function=Function(arguments='{\"destination\":\"Tokyo\"}', name='get_ticket_price'), type='function')])\n",
      "ChatCompletionMessage(content=None, refusal=None, role='assistant', function_call=None, tool_calls=[ChatCompletionMessageToolCall(id='call_hfnZU7s00POmZ3C0vWLmo1KQ', function=Function(arguments='{\"destination\":\"America\"}', name='get_ticket_price'), type='function')])\n"
     ]
    }
   ],
   "source": [
    "gr.ChatInterface(fn=chat, type=\"messages\").launch()"
   ]
  },
  {
   "cell_type": "code",
   "execution_count": 40,
   "id": "6eb1bd86-1e05-4a08-965b-8ada78853efb",
   "metadata": {
    "editable": true,
    "slideshow": {
     "slide_type": ""
    },
    "tags": []
   },
   "outputs": [],
   "source": [
    "from PIL import Image, ImageDraw, ImageFont"
   ]
  },
  {
   "cell_type": "code",
   "execution_count": 41,
   "id": "2bd007e1-176f-45fe-b5b7-f4cbc1892797",
   "metadata": {},
   "outputs": [],
   "source": [
    "def create_ticket(destination: str, passenger: str, price: str, filename: str = \"week2Ticket.png\"):\n",
    "    width, height = 600, 300\n",
    "    background_color = (255, 255, 255)\n",
    "    text_color = (0, 0, 0)\n",
    "    border_color = (0, 0, 0)\n",
    "\n",
    "    ticket = Image.new('RGB', (width, height), background_color)\n",
    "    draw = ImageDraw.Draw(ticket)\n",
    "    border_thickness = 10\n",
    "    draw.rectangle([(0, 0), (width, height)], outline=border_color, width=border_thickness)\n",
    "\n",
    "    try:\n",
    "        font = ImageFont.truetype(\"arial.ttf\", 40)\n",
    "    except IOError:\n",
    "        font = ImageFont.load_default()\n",
    "\n",
    "    destination_text = f\"Destination: {destination}\"\n",
    "    destination_bbox = draw.textbbox((0, 0), destination_text, font=font)\n",
    "    destination_size = (destination_bbox[2] - destination_bbox[0], destination_bbox[3] - destination_bbox[1])\n",
    "    draw.text(((width - destination_size[0]) / 2, 70), destination_text, font=font, fill=text_color)\n",
    "\n",
    "    \n",
    "    passenger_text = f\"Passenger: {passenger}\"\n",
    "    passenger_bbox = draw.textbbox((0, 0), passenger_text, font=font)\n",
    "    passenger_size = (passenger_bbox[2] - passenger_bbox[0], passenger_bbox[3] - passenger_bbox[1])\n",
    "    draw.text(((width - passenger_size[0]) / 2, 140), passenger_text, font=font, fill=text_color)\n",
    "\n",
    "    \n",
    "    price_text = f\"Price: ${price}\"\n",
    "    price_bbox = draw.textbbox((0, 0), price_text, font=font)\n",
    "    price_size = (price_bbox[2] - price_bbox[0], price_bbox[3] - price_bbox[1])\n",
    "    draw.text(((width - price_size[0]) / 2, 210), price_text, font=font, fill=text_color)\n",
    "\n",
    "    file_path = f\"{filename}\"\n",
    "    ticket.save(file_path)\n",
    "    return file_path"
   ]
  },
  {
   "cell_type": "code",
   "execution_count": 42,
   "id": "2d9c24ff-76b0-4606-8c03-702be02c095f",
   "metadata": {},
   "outputs": [],
   "source": [
    "ticket_path = create_ticket(\"America\", \"Amir\", \"1999.99\")"
   ]
  },
  {
   "cell_type": "code",
   "execution_count": 43,
   "id": "499fd856-0858-456d-ad0d-b75969997a42",
   "metadata": {},
   "outputs": [],
   "source": [
    "book_function = {\n",
    "    \"name\": \"create_ticket\",\n",
    "    \"description\": \"Give the png image for ticket for each passenger with destination that you have the price for. Call this whenever you need to book the ticket, but if you don't know the passenger name, ask for it. for example when a customer says 'Book a ticket for a specific destination', you may ask about his / her name and then create the ticket\",\n",
    "    \"parameters\": {\n",
    "        \"type\": \"object\",\n",
    "        \"properties\": {\n",
    "            \"destination\": {\n",
    "                \"type\": \"string\",\n",
    "                \"description\": \"The city that the customer wants to travel to\",\n",
    "            },\n",
    "            \"passenger_name\": {\n",
    "                \"type\": \"string\",\n",
    "                \"description\": \"The customer name that wants to travel\",\n",
    "            },\n",
    "        },\n",
    "        \"required\": [\"destination\",\"passenger_name\"],\n",
    "        \"additionalProperties\": False\n",
    "    }\n",
    "}"
   ]
  },
  {
   "cell_type": "code",
   "execution_count": 44,
   "id": "6224b075-5b51-423f-b41d-261932a54928",
   "metadata": {},
   "outputs": [],
   "source": [
    "tools = [{\"type\": \"function\", \"function\": price_function},{\"type\": \"function\", \"function\": book_function}]"
   ]
  },
  {
   "cell_type": "code",
   "execution_count": 45,
   "id": "7dd16c52-d112-46ad-8262-4cc706e5b44e",
   "metadata": {
    "editable": true,
    "slideshow": {
     "slide_type": ""
    },
    "tags": []
   },
   "outputs": [],
   "source": [
    "def handle_tool_call(message):\n",
    "    tool_call = message.tool_calls[0]\n",
    "    arguments = json.loads(tool_call.function.arguments)\n",
    "    destination = arguments.get('destination')\n",
    "    if (tool_call.function.name == 'create_ticket'):\n",
    "        passenger_name = arguments.get('passenger_name')\n",
    "        price = get_ticket_price(destination)\n",
    "        file_path = create_ticket(destination,passenger_name, price)\n",
    "        response = {\n",
    "            \"role\": \"tool\",\n",
    "            \"content\": json.dumps({\"file_path\": file_path}),\n",
    "            \"tool_call_id\": message.tool_calls[0].id\n",
    "        }\n",
    "    elif (tool_call.function.name == 'get_ticket_price'):\n",
    "        price = get_ticket_price(destination)\n",
    "        response = {\n",
    "            \"role\": \"tool\",\n",
    "            \"content\": json.dumps({\"destination\": destination, \"price\": price}),\n",
    "            \"tool_call_id\": message.tool_calls[0].id\n",
    "        }\n",
    "    return response, destination"
   ]
  },
  {
   "cell_type": "code",
   "execution_count": 46,
   "id": "6a0f9e21-25bd-4c61-b88d-cfcb97323e6f",
   "metadata": {
    "editable": true,
    "slideshow": {
     "slide_type": ""
    },
    "tags": []
   },
   "outputs": [],
   "source": [
    "def chat(message, history):\n",
    "    messages = [{\"role\": \"system\", \"content\": system_message}]\n",
    "    for i in range(0, len(history), 2):\n",
    "        human = history[i]\n",
    "        assistant = history[i+1] if i+1 < len(history) else None\n",
    "\n",
    "        if human['role'] == 'user':\n",
    "            messages.append({\"role\": \"user\", \"content\": human['content']})\n",
    "        if assistant and assistant['role'] == 'assistant':\n",
    "            messages.append({\"role\": \"assistant\", \"content\": assistant['content']})\n",
    "    messages.append({\"role\" : \"user\" , \"content\" : message})\n",
    "    response = openai.chat.completions.create(model=MODEL, messages=messages, tools=tools)\n",
    "\n",
    "    if response.choices[0].finish_reason==\"tool_calls\":\n",
    "        message = response.choices[0].message\n",
    "        response, city = handle_tool_call(message)\n",
    "        messages.append(message)\n",
    "        messages.append(response)\n",
    "        response = openai.chat.completions.create(model=MODEL, messages=messages)\n",
    "    \n",
    "    return response.choices[0].message.content"
   ]
  },
  {
   "cell_type": "code",
   "execution_count": 121,
   "id": "022d717d-afd6-4c7a-a380-ff0cd3210276",
   "metadata": {
    "editable": true,
    "slideshow": {
     "slide_type": ""
    },
    "tags": []
   },
   "outputs": [
    {
     "name": "stdout",
     "output_type": "stream",
     "text": [
      "* Running on local URL:  http://127.0.0.1:7897\n",
      "\n",
      "To create a public link, set `share=True` in `launch()`.\n"
     ]
    },
    {
     "data": {
      "text/html": [
       "<div><iframe src=\"http://127.0.0.1:7897/\" width=\"100%\" height=\"500\" allow=\"autoplay; camera; microphone; clipboard-read; clipboard-write;\" frameborder=\"0\" allowfullscreen></iframe></div>"
      ],
      "text/plain": [
       "<IPython.core.display.HTML object>"
      ]
     },
     "metadata": {},
     "output_type": "display_data"
    },
    {
     "data": {
      "text/plain": []
     },
     "execution_count": 121,
     "metadata": {},
     "output_type": "execute_result"
    }
   ],
   "source": [
    "gr.ChatInterface(fn=chat,type=\"messages\").launch()"
   ]
  },
  {
   "cell_type": "code",
   "execution_count": 47,
   "id": "e1ecb94e-2025-464a-9bf6-6fc54df17588",
   "metadata": {},
   "outputs": [],
   "source": [
    "def translate_ticket(ticket_data,lang=\"it\"):\n",
    "    ticket_text = \"\\n\".join([f\"{key}: {value}\" for key, value in ticket_data.items()])\n",
    "    \n",
    "    prompt = (\n",
    "        f\"Translate the following ticket details into {lang}. \"\n",
    "        f\"Ensure that all names, dates, and venue information are properly translated:\\n\\n{ticket_text}\"\n",
    "    )\n",
    "\n",
    "    try:\n",
    "        response = openai.chat.completions.create(model=MODEL,messages=[{\"role\": \"user\", \"content\": prompt}])\n",
    "        translated_text = response.choices[0].message.content\n",
    "    \n",
    "        translated_data = {}\n",
    "        for line in translated_text.split(\"\\n\"):\n",
    "            if \": \" in line:\n",
    "                key, value = line.split(\": \", 1)\n",
    "                translated_data[key.strip()] = value.strip()\n",
    "        return translated_data\n",
    "\n",
    "    except Exception as e:\n",
    "        print(\"Error during translation:\", e)\n",
    "        return None"
   ]
  },
  {
   "cell_type": "code",
   "execution_count": 48,
   "id": "f94bcb89-ebca-4e61-9fa8-84e31f5513fa",
   "metadata": {},
   "outputs": [
    {
     "name": "stdout",
     "output_type": "stream",
     "text": [
      "{\"nom_de_l'événement\": 'Concert', 'date': '2024-12-05', 'lieu': 'Teatro Regio', 'place': 'A10'}\n"
     ]
    }
   ],
   "source": [
    "ticket_data = {\n",
    "    \"event_name\": \"Concert\",\n",
    "    \"date\": \"2024-12-05\",\n",
    "    \"venue\": \"Teatro Regio\",\n",
    "    \"seat\": \"A10\"\n",
    "}\n",
    "\n",
    "translated_ticket = translate_ticket(ticket_data, \"fr\")\n",
    "print(translated_ticket)"
   ]
  },
  {
   "cell_type": "code",
   "execution_count": 114,
   "id": "f02388db-f1bb-4f48-82a9-3fbed87dbcbe",
   "metadata": {},
   "outputs": [],
   "source": [
    "translate_function = {\n",
    "    \"name\": \"translate_ticket\",\n",
    "    \"description\": \"Translate the given English ticket data to the requested language. When the customer requests a translated ticket, return a ticket in the specified language using this function.\",\n",
    "    \"parameters\": {\n",
    "        \"type\": \"object\",\n",
    "        \"properties\": {\n",
    "            \"ticket_data\": {\n",
    "                \"type\": \"object\",\n",
    "                \"description\": \"The complete ticket data in English, to be translated.\",\n",
    "            },\n",
    "            \"language\": {\n",
    "                \"type\": \"string\",\n",
    "                \"description\": \"The language to translate the ticket to, e.g., 'French' for a French translation.\",\n",
    "            },\n",
    "        },\n",
    "        \"required\": [\"ticket_data\", \"language\"],\n",
    "        \"additionalProperties\": False\n",
    "    }\n",
    "}"
   ]
  },
  {
   "cell_type": "code",
   "execution_count": 115,
   "id": "ae01985a-d858-42e1-8a5f-a48c7a2d10b2",
   "metadata": {},
   "outputs": [],
   "source": [
    "tools = [{\"type\": \"function\", \"function\": price_function},{\"type\": \"function\", \"function\": book_function}, {\"type\": \"function\", \"function\": translate_function}]"
   ]
  },
  {
   "cell_type": "code",
   "execution_count": 116,
   "id": "732070f4-7805-4253-8190-a0d1b5fcd401",
   "metadata": {},
   "outputs": [],
   "source": [
    "from PIL import Image, ImageDraw, ImageFont\n",
    "\n",
    "def create_custom_png(data, output_path=\"Week2Ticket2.png\"):\n",
    "    width, height = 600, 300\n",
    "    background_color = (245, 245, 245)\n",
    "    text_color = (0, 0, 0)\n",
    "    line_color = (200, 200, 200)\n",
    "\n",
    "    ticket_image = Image.new(\"RGB\", (width, height), background_color)\n",
    "    draw = ImageDraw.Draw(ticket_image)\n",
    "\n",
    "    try:\n",
    "        font = ImageFont.truetype(\"arial.ttf\", 18)\n",
    "        header_font = ImageFont.truetype(\"arial.ttf\", 24)\n",
    "    except IOError:\n",
    "        font = ImageFont.load_default()\n",
    "        header_font = font\n",
    "\n",
    "    header_text = \"Event Ticket\"\n",
    "    header_bbox = draw.textbbox((0, 0), header_text, font=header_font)\n",
    "    header_w = header_bbox[2] - header_bbox[0]\n",
    "    draw.text(((width - header_w) // 2, 20), header_text, fill=text_color, font=header_font)\n",
    "\n",
    "    draw.line([(50, 60), (width - 50, 60)], fill=line_color, width=2)\n",
    "\n",
    "    y_position = 80\n",
    "    padding = 10\n",
    "\n",
    "    for key, value in ticket_data.items():\n",
    "        key_text = f\"{key}:\"\n",
    "        value_text = str(value)\n",
    "\n",
    "        key_bbox = draw.textbbox((0, 0), key_text, font=font)\n",
    "        key_w = key_bbox[2] - key_bbox[0]\n",
    "        draw.text((50, y_position), key_text, fill=text_color, font=font)\n",
    "        draw.text((50 + key_w + padding, y_position), value_text, fill=text_color, font=font)\n",
    "\n",
    "        y_position += key_bbox[3] - key_bbox[1] + padding\n",
    "\n",
    "    border_color = (150, 150, 150)\n",
    "    for i in range(0, width, 10):\n",
    "        draw.line([(i, 0), (i + 5, 0)], fill=border_color, width=2)\n",
    "        draw.line([(i, height - 1), (i + 5, height - 1)], fill=border_color, width=2)\n",
    "    for i in range(0, height, 10):\n",
    "        draw.line([(0, i), (0, i + 5)], fill=border_color, width=2)\n",
    "        draw.line([(width - 1, i), (width - 1, i + 5)], fill=border_color, width=2)\n",
    "\n",
    "    ticket_image.save(output_path)"
   ]
  },
  {
   "cell_type": "code",
   "execution_count": 117,
   "id": "35d58929-8e3c-49f9-94e4-9a1ab104dc98",
   "metadata": {},
   "outputs": [],
   "source": [
    "create_custom_png(translated_ticket)"
   ]
  },
  {
   "cell_type": "code",
   "execution_count": 118,
   "id": "53de5a3e-6ef4-4ec2-8a5f-1327dd80e581",
   "metadata": {},
   "outputs": [],
   "source": [
    "def handle_tool_call(message):\n",
    "    global stored_destination\n",
    "    global stored_passenger_name\n",
    "    \n",
    "    tool_call = message.tool_calls[0]\n",
    "    arguments = json.loads(tool_call.function.arguments)\n",
    "    destination = arguments.get('destination')\n",
    "    \n",
    "    if (tool_call.function.name == 'create_ticket'):\n",
    "        passenger_name = arguments.get('passenger_name')\n",
    "        stored_passenger_name = passenger_name\n",
    "        stored_destination = destination\n",
    "        price = get_ticket_price(destination)\n",
    "        file_path = create_ticket(destination,passenger_name, price)\n",
    "        response = {\n",
    "            \"role\": \"tool\",\n",
    "            \"content\": json.dumps({\"file_path\": file_path}),\n",
    "            \"tool_call_id\": message.tool_calls[0].id\n",
    "        }\n",
    "        \n",
    "    elif (tool_call.function.name == 'get_ticket_price'):\n",
    "        price = get_ticket_price(destination)\n",
    "        stored_destination = destination\n",
    "        response = {\n",
    "            \"role\": \"tool\",\n",
    "            \"content\": json.dumps({\"destination\": destination, \"price\": price}),\n",
    "            \"tool_call_id\": message.tool_calls[0].id\n",
    "        }\n",
    "        \n",
    "    elif (tool_call.function.name == 'translate_ticket'):\n",
    "        data = {\n",
    "            \"destination\": stored_destination,\n",
    "            \"passenger\": stored_passenger_name,\n",
    "            \"price\": get_ticket_price(stored_destination)\n",
    "        }\n",
    "        \n",
    "        file_path = translate_ticket(data)\n",
    "        response = {\n",
    "            \"role\": \"tool\",\n",
    "            \"content\": json.dumps({\"file_path\": file_path}),\n",
    "            \"tool_call_id\": message.tool_calls[0].id\n",
    "        }\n",
    "    return response, destination"
   ]
  },
  {
   "cell_type": "code",
   "execution_count": 119,
   "id": "2cb4f5bc-a059-49ab-b035-1dc1f0e5d51d",
   "metadata": {},
   "outputs": [],
   "source": [
    "def chat(message, history):\n",
    "    messages = [{\"role\": \"system\", \"content\": system_message}]\n",
    "    for i in range(0, len(history), 2):\n",
    "        human = history[i]\n",
    "        assistant = history[i+1] if i+1 < len(history) else None\n",
    "\n",
    "        if human['role'] == 'user':\n",
    "            messages.append({\"role\": \"user\", \"content\": human['content']})\n",
    "        if assistant and assistant['role'] == 'assistant':\n",
    "            messages.append({\"role\": \"assistant\", \"content\": assistant['content']})\n",
    "    messages.append({\"role\" : \"user\" , \"content\" : message})\n",
    "    response = openai.chat.completions.create(model=MODEL, messages=messages, tools=tools)\n",
    "\n",
    "    if response.choices[0].finish_reason==\"tool_calls\":\n",
    "        message = response.choices[0].message\n",
    "        response, city = handle_tool_call(message)\n",
    "        messages.append(message)\n",
    "        messages.append(response)\n",
    "        response = openai.chat.completions.create(model=MODEL, messages=messages)\n",
    "    \n",
    "    return response.choices[0].message.content"
   ]
  },
  {
   "cell_type": "code",
   "execution_count": 120,
   "id": "7f210029-d149-41bd-8cec-2c1c6a0f43c6",
   "metadata": {},
   "outputs": [
    {
     "name": "stdout",
     "output_type": "stream",
     "text": [
      "* Running on local URL:  http://127.0.0.1:7878\n",
      "\n",
      "To create a public link, set `share=True` in `launch()`.\n"
     ]
    },
    {
     "data": {
      "text/html": [
       "<div><iframe src=\"http://127.0.0.1:7878/\" width=\"100%\" height=\"500\" allow=\"autoplay; camera; microphone; clipboard-read; clipboard-write;\" frameborder=\"0\" allowfullscreen></iframe></div>"
      ],
      "text/plain": [
       "<IPython.core.display.HTML object>"
      ]
     },
     "metadata": {},
     "output_type": "display_data"
    },
    {
     "data": {
      "text/plain": []
     },
     "execution_count": 120,
     "metadata": {},
     "output_type": "execute_result"
    }
   ],
   "source": [
    "gr.ChatInterface(fn=chat,type=\"messages\").launch()"
   ]
  },
  {
   "cell_type": "code",
   "execution_count": null,
   "id": "cc688f7e-619c-4cea-a4ad-4bccad7f94dd",
   "metadata": {},
   "outputs": [],
   "source": []
  },
  {
   "cell_type": "code",
   "execution_count": null,
   "id": "c6985f79-1e6b-4758-a5a5-64e90eddedc5",
   "metadata": {},
   "outputs": [],
   "source": []
  }
 ],
 "metadata": {
  "kernelspec": {
   "display_name": "Python 3 (ipykernel)",
   "language": "python",
   "name": "python3"
  },
  "language_info": {
   "codemirror_mode": {
    "name": "ipython",
    "version": 3
   },
   "file_extension": ".py",
   "mimetype": "text/x-python",
   "name": "python",
   "nbconvert_exporter": "python",
   "pygments_lexer": "ipython3",
   "version": "3.11.10"
  }
 },
 "nbformat": 4,
 "nbformat_minor": 5
}
